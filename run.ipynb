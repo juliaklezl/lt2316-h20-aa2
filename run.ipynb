{
 "cells": [
  {
   "cell_type": "code",
   "execution_count": 1,
   "metadata": {},
   "outputs": [
    {
     "name": "stderr",
     "output_type": "stream",
     "text": [
      "[nltk_data] Downloading package averaged_perceptron_tagger to\n",
      "[nltk_data]     /home/gusklezju@GU.GU.SE/nltk_data...\n",
      "[nltk_data]   Package averaged_perceptron_tagger is already up-to-\n",
      "[nltk_data]       date!\n"
     ]
    }
   ],
   "source": [
    "\n",
    "# aa1 stuff\n",
    "from aa1 import DataLoader\n",
    "from aa1 import extract_features\n",
    "from aa1 import check_output\n",
    "\n",
    "from aa2 import Trainer\n",
    "from aa2 import parallel_coordinates\n",
    "# <-- IMPORT YOUR MODEL CLASS HERE\n",
    "from aa2.model import ClassifierModel"
   ]
  },
  {
   "cell_type": "code",
   "execution_count": 3,
   "metadata": {},
   "outputs": [],
   "source": [
    "#set up a GPU device here\n",
    "import torch\n",
    "device = torch.device(\"cuda:0\" if torch.cuda.is_available() else \"cpu\")"
   ]
  },
  {
   "cell_type": "code",
   "execution_count": 4,
   "metadata": {},
   "outputs": [
    {
     "name": "stdout",
     "output_type": "stream",
     "text": [
      "dataframes are ready\n",
      "split df\n",
      "got y\n"
     ]
    }
   ],
   "source": [
    "# assigment 1 stuff\n",
    "dataset = DataLoader(data_dir=\"../DDI_Corpus\", device=device)\n",
    "train_y, val_y, test_y = check_output(dataset.get_y())\n",
    "train_X, val_X, test_X = check_output(extract_features(\n",
    "                                                        data=dataset.data_df,\n",
    "                                                        max_sample_length=dataset.max_sample_length,\n",
    "                                                        id2w = dataset.id2word\n",
    "                                                       ))"
   ]
  },
  {
   "cell_type": "code",
   "execution_count": 6,
   "metadata": {},
   "outputs": [],
   "source": [
    "#set up trainer\n",
    "model_dump = \"aa2_models/\" #you are allowed to change the dump_folder\n",
    "trainer = Trainer(dump_folder=model_dump) "
   ]
  },
  {
   "cell_type": "code",
   "execution_count": 16,
   "metadata": {},
   "outputs": [],
   "source": [
    "# define a set of hyperparamaters\n",
    "# test at least 5 different sets of hyperparamaters \n",
    "set_hyperparamaters = [ {\n",
    "                           \"learning_rate\": 0.001,\n",
    "                           \"number_layers\": 5,\n",
    "                           \"optimizer\": \"adam\",\n",
    "                            \"hidden_size\": 4,\n",
    "                             \"batch_size\": 32, \n",
    "                             \"epochs\": 50,\n",
    "                             \"model_name\": \"model1\"\n",
    "                         },\n",
    "                        {\n",
    "                           \"learning_rate\": 0.01,\n",
    "                           \"number_layers\": 5 ,\n",
    "                           \"optimizer\": \"SGD\",\n",
    "                           \"hidden_size\": 4,\n",
    "                             \"batch_size\": 32, \n",
    "                             \"epochs\": 20,\n",
    "                             \"model_name\": \"model2\"\n",
    "                         },\n",
    "                        {\n",
    "                           \"learning_rate\": 0.1,\n",
    "                           \"number_layers\": 5,\n",
    "                           \"optimizer\": \"adam\",\n",
    "                            \"hidden_size\": 4,\n",
    "                             \"batch_size\": 32, \n",
    "                             \"epochs\": 20,\n",
    "                             \"model_name\": \"model3\"\n",
    "                         },\n",
    "                        {\n",
    "                           \"learning_rate\": 0.001,\n",
    "                           \"number_layers\": 10,\n",
    "                           \"optimizer\": \"adam\",\n",
    "                            \"hidden_size\": 50,\n",
    "                          \"batch_size\": 32, \n",
    "                             \"epochs\": 3,\n",
    "                             \"model_name\": \"model4\"\n",
    "                         },\n",
    "                        {\n",
    "                           \"learning_rate\": 0.0001,\n",
    "                           \"number_layers\": 10,\n",
    "                           \"optimizer\": \"adam\",\n",
    "                            \"hidden_size\": 50,\n",
    "                             \"batch_size\": 64, \n",
    "                             \"epochs\": 100,\n",
    "                             \"model_name\": \"model5\"\n",
    "                         }\n",
    "                        ]"
   ]
  },
  {
   "cell_type": "code",
   "execution_count": 17,
   "metadata": {},
   "outputs": [
    {
     "name": "stdout",
     "output_type": "stream",
     "text": [
      "trainx_shape: torch.Size([526, 102, 7])\n",
      "Total loss in epoch 0 is 36.6754264831543.\n",
      "model: model1 accuracy: 0.013790849673202614 precision: 0.00019018753470887267 recall: 0.013790849673202614 f1_score: 0.027206498613886916\n",
      "Total loss in epoch 1 is 33.19773864746094.\n",
      "model: model1 accuracy: 0.013790849673202614 precision: 0.00019018753470887267 recall: 0.013790849673202614 f1_score: 0.027206498613886916\n",
      "Total loss in epoch 2 is 29.30215072631836.\n",
      "model: model1 accuracy: 0.013790849673202614 precision: 0.00019018753470887267 recall: 0.013790849673202614 f1_score: 0.027206498613886916\n",
      "Total loss in epoch 3 is 24.695724487304688.\n",
      "model: model1 accuracy: 0.9423529411764706 precision: 0.9538064359076963 recall: 0.9423529411764706 f1_score: 0.9370679126425452\n",
      "Total loss in epoch 4 is 19.928503036499023.\n",
      "model: model1 accuracy: 0.9590849673202614 precision: 0.9525553376906318 recall: 0.9590849673202614 f1_score: 0.9623999398322359\n",
      "Total loss in epoch 5 is 15.913471221923828.\n",
      "model: model1 accuracy: 0.9672549019607843 precision: 0.9520273733255679 recall: 0.9672549019607843 f1_score: 0.9749660411563645\n",
      "Total loss in epoch 6 is 12.90243911743164.\n",
      "model: model1 accuracy: 0.9672549019607843 precision: 0.9520273733255679 recall: 0.9672549019607843 f1_score: 0.9749660411563645\n",
      "Total loss in epoch 7 is 10.714371681213379.\n",
      "model: model1 accuracy: 0.9672549019607843 precision: 0.9520273733255679 recall: 0.9672549019607843 f1_score: 0.9749660411563645\n",
      "Total loss in epoch 8 is 9.122992515563965.\n",
      "model: model1 accuracy: 0.9741830065359477 precision: 0.9490325302234183 recall: 0.9741830065359477 f1_score: 0.98692269491806\n",
      "Total loss in epoch 9 is 7.957324028015137.\n",
      "model: model1 accuracy: 0.9741830065359477 precision: 0.9490325302234183 recall: 0.9741830065359477 f1_score: 0.98692269491806\n",
      "Total loss in epoch 10 is 7.068919658660889.\n",
      "model: model1 accuracy: 0.9741830065359477 precision: 0.9490325302234183 recall: 0.9741830065359477 f1_score: 0.98692269491806\n",
      "Total loss in epoch 11 is 6.363656520843506.\n",
      "model: model1 accuracy: 0.9741830065359477 precision: 0.9490325302234183 recall: 0.9741830065359477 f1_score: 0.98692269491806\n",
      "Total loss in epoch 12 is 5.805109024047852.\n",
      "model: model1 accuracy: 0.9741830065359477 precision: 0.9490325302234183 recall: 0.9741830065359477 f1_score: 0.98692269491806\n",
      "Total loss in epoch 13 is 5.346787452697754.\n",
      "model: model1 accuracy: 0.9741830065359477 precision: 0.9490325302234183 recall: 0.9741830065359477 f1_score: 0.98692269491806\n",
      "Total loss in epoch 14 is 4.972226619720459.\n",
      "model: model1 accuracy: 0.9741830065359477 precision: 0.9490325302234183 recall: 0.9741830065359477 f1_score: 0.98692269491806\n",
      "Total loss in epoch 15 is 4.668410301208496.\n",
      "model: model1 accuracy: 0.9741830065359477 precision: 0.9490325302234183 recall: 0.9741830065359477 f1_score: 0.98692269491806\n",
      "Total loss in epoch 16 is 4.410061359405518.\n",
      "model: model1 accuracy: 0.9741830065359477 precision: 0.9490325302234183 recall: 0.9741830065359477 f1_score: 0.98692269491806\n",
      "Total loss in epoch 17 is 4.200563907623291.\n",
      "model: model1 accuracy: 0.9741830065359477 precision: 0.9490325302234183 recall: 0.9741830065359477 f1_score: 0.98692269491806\n",
      "Total loss in epoch 18 is 4.010202884674072.\n",
      "model: model1 accuracy: 0.9741830065359477 precision: 0.9490325302234183 recall: 0.9741830065359477 f1_score: 0.98692269491806\n",
      "Total loss in epoch 19 is 3.845000743865967.\n",
      "model: model1 accuracy: 0.9741830065359477 precision: 0.9490325302234183 recall: 0.9741830065359477 f1_score: 0.98692269491806\n",
      "Total loss in epoch 20 is 3.6742990016937256.\n",
      "model: model1 accuracy: 0.9741830065359477 precision: 0.9490325302234183 recall: 0.9741830065359477 f1_score: 0.98692269491806\n",
      "Total loss in epoch 21 is 3.587557792663574.\n",
      "model: model1 accuracy: 0.9741830065359477 precision: 0.9490325302234183 recall: 0.9741830065359477 f1_score: 0.98692269491806\n",
      "Total loss in epoch 22 is 3.453890800476074.\n",
      "model: model1 accuracy: 0.9741830065359477 precision: 0.9490325302234183 recall: 0.9741830065359477 f1_score: 0.98692269491806\n",
      "Total loss in epoch 23 is 3.367794990539551.\n",
      "model: model1 accuracy: 0.9741830065359477 precision: 0.9490325302234183 recall: 0.9741830065359477 f1_score: 0.98692269491806\n",
      "Total loss in epoch 24 is 3.267117977142334.\n",
      "model: model1 accuracy: 0.9741830065359477 precision: 0.9490325302234183 recall: 0.9741830065359477 f1_score: 0.98692269491806\n",
      "Total loss in epoch 25 is 3.1911098957061768.\n",
      "model: model1 accuracy: 0.9741830065359477 precision: 0.9490325302234183 recall: 0.9741830065359477 f1_score: 0.98692269491806\n",
      "Total loss in epoch 26 is 3.115478992462158.\n",
      "model: model1 accuracy: 0.9741830065359477 precision: 0.9490325302234183 recall: 0.9741830065359477 f1_score: 0.98692269491806\n",
      "Total loss in epoch 27 is 3.034156560897827.\n",
      "model: model1 accuracy: 0.9741830065359477 precision: 0.9490325302234183 recall: 0.9741830065359477 f1_score: 0.98692269491806\n",
      "Total loss in epoch 28 is 2.9920687675476074.\n",
      "model: model1 accuracy: 0.9741830065359477 precision: 0.9490325302234183 recall: 0.9741830065359477 f1_score: 0.98692269491806\n",
      "Total loss in epoch 29 is 2.9911346435546875.\n",
      "model: model1 accuracy: 0.9741830065359477 precision: 0.9490325302234183 recall: 0.9741830065359477 f1_score: 0.98692269491806\n",
      "Total loss in epoch 30 is 2.9051692485809326.\n",
      "model: model1 accuracy: 0.9741830065359477 precision: 0.9490325302234183 recall: 0.9741830065359477 f1_score: 0.98692269491806\n",
      "Total loss in epoch 31 is 2.8406620025634766.\n",
      "model: model1 accuracy: 0.9741830065359477 precision: 0.9490325302234183 recall: 0.9741830065359477 f1_score: 0.98692269491806\n",
      "Total loss in epoch 32 is 2.802745819091797.\n",
      "model: model1 accuracy: 0.9741830065359477 precision: 0.9490325302234183 recall: 0.9741830065359477 f1_score: 0.98692269491806\n",
      "Total loss in epoch 33 is 2.78629207611084.\n",
      "model: model1 accuracy: 0.9741830065359477 precision: 0.9490325302234183 recall: 0.9741830065359477 f1_score: 0.98692269491806\n",
      "Total loss in epoch 34 is 2.7428157329559326.\n",
      "model: model1 accuracy: 0.9741830065359477 precision: 0.9490325302234183 recall: 0.9741830065359477 f1_score: 0.98692269491806\n",
      "Total loss in epoch 35 is 2.7143030166625977.\n",
      "model: model1 accuracy: 0.9741830065359477 precision: 0.9490325302234183 recall: 0.9741830065359477 f1_score: 0.98692269491806\n",
      "Total loss in epoch 36 is 2.6971354484558105.\n",
      "model: model1 accuracy: 0.9741830065359477 precision: 0.9490325302234183 recall: 0.9741830065359477 f1_score: 0.98692269491806\n",
      "Total loss in epoch 37 is 2.667224168777466.\n",
      "model: model1 accuracy: 0.9741830065359477 precision: 0.9490325302234183 recall: 0.9741830065359477 f1_score: 0.98692269491806\n",
      "Total loss in epoch 38 is 2.686966896057129.\n",
      "model: model1 accuracy: 0.9741830065359477 precision: 0.9490325302234183 recall: 0.9741830065359477 f1_score: 0.98692269491806\n",
      "Total loss in epoch 39 is 2.6185455322265625.\n",
      "model: model1 accuracy: 0.9741830065359477 precision: 0.9490325302234183 recall: 0.9741830065359477 f1_score: 0.98692269491806\n",
      "Total loss in epoch 40 is 2.6199381351470947.\n",
      "model: model1 accuracy: 0.9741830065359477 precision: 0.9490325302234183 recall: 0.9741830065359477 f1_score: 0.98692269491806\n",
      "Total loss in epoch 41 is 2.608901262283325.\n",
      "model: model1 accuracy: 0.9741830065359477 precision: 0.9490325302234183 recall: 0.9741830065359477 f1_score: 0.98692269491806\n",
      "Total loss in epoch 42 is 2.5970609188079834.\n",
      "model: model1 accuracy: 0.9741830065359477 precision: 0.9490325302234183 recall: 0.9741830065359477 f1_score: 0.98692269491806\n",
      "Total loss in epoch 43 is 2.592130661010742.\n",
      "model: model1 accuracy: 0.9741830065359477 precision: 0.9490325302234183 recall: 0.9741830065359477 f1_score: 0.98692269491806\n",
      "Total loss in epoch 44 is 2.5590057373046875.\n",
      "model: model1 accuracy: 0.9741830065359477 precision: 0.9490325302234183 recall: 0.9741830065359477 f1_score: 0.98692269491806\n",
      "Total loss in epoch 45 is 2.5492758750915527.\n",
      "model: model1 accuracy: 0.9741830065359477 precision: 0.9490325302234183 recall: 0.9741830065359477 f1_score: 0.98692269491806\n",
      "Total loss in epoch 46 is 2.541092872619629.\n",
      "model: model1 accuracy: 0.9741830065359477 precision: 0.9490325302234183 recall: 0.9741830065359477 f1_score: 0.98692269491806\n",
      "Total loss in epoch 47 is 2.5286359786987305.\n"
     ]
    },
    {
     "name": "stdout",
     "output_type": "stream",
     "text": [
      "model: model1 accuracy: 0.9741830065359477 precision: 0.9490325302234183 recall: 0.9741830065359477 f1_score: 0.98692269491806\n",
      "Total loss in epoch 48 is 2.4921746253967285.\n",
      "model: model1 accuracy: 0.9741830065359477 precision: 0.9490325302234183 recall: 0.9741830065359477 f1_score: 0.98692269491806\n",
      "Total loss in epoch 49 is 2.4925830364227295.\n",
      "model: model1 accuracy: 0.9741830065359477 precision: 0.9490325302234183 recall: 0.9741830065359477 f1_score: 0.98692269491806\n",
      "trainx_shape: torch.Size([526, 102, 7])\n",
      "Total loss in epoch 0 is 16.875831604003906.\n",
      "model: model2 accuracy: 0.9741830065359477 precision: 0.9490325302234183 recall: 0.9741830065359477 f1_score: 0.98692269491806\n",
      "Total loss in epoch 1 is 11.040297508239746.\n",
      "model: model2 accuracy: 0.9741830065359477 precision: 0.9490325302234183 recall: 0.9741830065359477 f1_score: 0.98692269491806\n",
      "Total loss in epoch 2 is 8.67401123046875.\n",
      "model: model2 accuracy: 0.9741830065359477 precision: 0.9490325302234183 recall: 0.9741830065359477 f1_score: 0.98692269491806\n",
      "Total loss in epoch 3 is 7.176623821258545.\n",
      "model: model2 accuracy: 0.9741830065359477 precision: 0.9490325302234183 recall: 0.9741830065359477 f1_score: 0.98692269491806\n",
      "Total loss in epoch 4 is 6.17537784576416.\n",
      "model: model2 accuracy: 0.9741830065359477 precision: 0.9490325302234183 recall: 0.9741830065359477 f1_score: 0.98692269491806\n",
      "Total loss in epoch 5 is 5.432753086090088.\n",
      "model: model2 accuracy: 0.9741830065359477 precision: 0.9490325302234183 recall: 0.9741830065359477 f1_score: 0.98692269491806\n",
      "Total loss in epoch 6 is 4.886568069458008.\n",
      "model: model2 accuracy: 0.9741830065359477 precision: 0.9490325302234183 recall: 0.9741830065359477 f1_score: 0.98692269491806\n",
      "Total loss in epoch 7 is 4.488224506378174.\n",
      "model: model2 accuracy: 0.9741830065359477 precision: 0.9490325302234183 recall: 0.9741830065359477 f1_score: 0.98692269491806\n",
      "Total loss in epoch 8 is 4.192842960357666.\n",
      "model: model2 accuracy: 0.9741830065359477 precision: 0.9490325302234183 recall: 0.9741830065359477 f1_score: 0.98692269491806\n",
      "Total loss in epoch 9 is 3.928938150405884.\n",
      "model: model2 accuracy: 0.9741830065359477 precision: 0.9490325302234183 recall: 0.9741830065359477 f1_score: 0.98692269491806\n",
      "Total loss in epoch 10 is 3.7215020656585693.\n",
      "model: model2 accuracy: 0.9741830065359477 precision: 0.9490325302234183 recall: 0.9741830065359477 f1_score: 0.98692269491806\n",
      "Total loss in epoch 11 is 3.5423290729522705.\n",
      "model: model2 accuracy: 0.9741830065359477 precision: 0.9490325302234183 recall: 0.9741830065359477 f1_score: 0.98692269491806\n",
      "Total loss in epoch 12 is 3.407623052597046.\n",
      "model: model2 accuracy: 0.9741830065359477 precision: 0.9490325302234183 recall: 0.9741830065359477 f1_score: 0.98692269491806\n",
      "Total loss in epoch 13 is 3.281989574432373.\n",
      "model: model2 accuracy: 0.9741830065359477 precision: 0.9490325302234183 recall: 0.9741830065359477 f1_score: 0.98692269491806\n",
      "Total loss in epoch 14 is 3.2410202026367188.\n",
      "model: model2 accuracy: 0.9741830065359477 precision: 0.9490325302234183 recall: 0.9741830065359477 f1_score: 0.98692269491806\n",
      "Total loss in epoch 15 is 3.1233723163604736.\n",
      "model: model2 accuracy: 0.9741830065359477 precision: 0.9490325302234183 recall: 0.9741830065359477 f1_score: 0.98692269491806\n",
      "Total loss in epoch 16 is 3.059676170349121.\n",
      "model: model2 accuracy: 0.9741830065359477 precision: 0.9490325302234183 recall: 0.9741830065359477 f1_score: 0.98692269491806\n",
      "Total loss in epoch 17 is 2.9878592491149902.\n",
      "model: model2 accuracy: 0.9741830065359477 precision: 0.9490325302234183 recall: 0.9741830065359477 f1_score: 0.98692269491806\n",
      "Total loss in epoch 18 is 2.952963352203369.\n",
      "model: model2 accuracy: 0.9741830065359477 precision: 0.9490325302234183 recall: 0.9741830065359477 f1_score: 0.98692269491806\n",
      "Total loss in epoch 19 is 2.8927934169769287.\n",
      "model: model2 accuracy: 0.9741830065359477 precision: 0.9490325302234183 recall: 0.9741830065359477 f1_score: 0.98692269491806\n",
      "trainx_shape: torch.Size([526, 102, 7])\n",
      "Total loss in epoch 0 is 5.058522701263428.\n",
      "model: model3 accuracy: 0.9741830065359477 precision: 0.9490325302234183 recall: 0.9741830065359477 f1_score: 0.98692269491806\n",
      "Total loss in epoch 1 is 2.311973810195923.\n",
      "model: model3 accuracy: 0.9741830065359477 precision: 0.9490325302234183 recall: 0.9741830065359477 f1_score: 0.98692269491806\n",
      "Total loss in epoch 2 is 1.8120774030685425.\n",
      "model: model3 accuracy: 0.9741830065359477 precision: 0.9490325302234183 recall: 0.9741830065359477 f1_score: 0.98692269491806\n",
      "Total loss in epoch 3 is 1.716198205947876.\n",
      "model: model3 accuracy: 0.9741830065359477 precision: 0.9490325302234183 recall: 0.9741830065359477 f1_score: 0.98692269491806\n",
      "Total loss in epoch 4 is 1.7039614915847778.\n",
      "model: model3 accuracy: 0.9741830065359477 precision: 0.9490325302234183 recall: 0.9741830065359477 f1_score: 0.98692269491806\n",
      "Total loss in epoch 5 is 1.68034827709198.\n",
      "model: model3 accuracy: 0.9741830065359477 precision: 0.9490325302234183 recall: 0.9741830065359477 f1_score: 0.98692269491806\n",
      "Total loss in epoch 6 is 1.6938066482543945.\n",
      "model: model3 accuracy: 0.9741830065359477 precision: 0.9490325302234183 recall: 0.9741830065359477 f1_score: 0.98692269491806\n",
      "Total loss in epoch 7 is 1.7130554914474487.\n",
      "model: model3 accuracy: 0.9741830065359477 precision: 0.9490325302234183 recall: 0.9741830065359477 f1_score: 0.98692269491806\n",
      "Total loss in epoch 8 is 1.7208443880081177.\n",
      "model: model3 accuracy: 0.9741830065359477 precision: 0.9490325302234183 recall: 0.9741830065359477 f1_score: 0.98692269491806\n",
      "Total loss in epoch 9 is 1.6937282085418701.\n",
      "model: model3 accuracy: 0.9741830065359477 precision: 0.9490325302234183 recall: 0.9741830065359477 f1_score: 0.98692269491806\n",
      "Total loss in epoch 10 is 1.6784837245941162.\n",
      "model: model3 accuracy: 0.9741830065359477 precision: 0.9490325302234183 recall: 0.9741830065359477 f1_score: 0.98692269491806\n",
      "Total loss in epoch 11 is 1.6787360906600952.\n",
      "model: model3 accuracy: 0.9741830065359477 precision: 0.9490325302234183 recall: 0.9741830065359477 f1_score: 0.98692269491806\n",
      "Total loss in epoch 12 is 1.702035665512085.\n",
      "model: model3 accuracy: 0.9741830065359477 precision: 0.9490325302234183 recall: 0.9741830065359477 f1_score: 0.98692269491806\n",
      "Total loss in epoch 13 is 1.6859922409057617.\n",
      "model: model3 accuracy: 0.9741830065359477 precision: 0.9490325302234183 recall: 0.9741830065359477 f1_score: 0.98692269491806\n",
      "Total loss in epoch 14 is 1.6839686632156372.\n",
      "model: model3 accuracy: 0.9741830065359477 precision: 0.9490325302234183 recall: 0.9741830065359477 f1_score: 0.98692269491806\n",
      "Total loss in epoch 15 is 1.6922767162322998.\n",
      "model: model3 accuracy: 0.9741830065359477 precision: 0.9490325302234183 recall: 0.9741830065359477 f1_score: 0.98692269491806\n",
      "Total loss in epoch 16 is 1.7091513872146606.\n",
      "model: model3 accuracy: 0.9741830065359477 precision: 0.9490325302234183 recall: 0.9741830065359477 f1_score: 0.98692269491806\n",
      "Total loss in epoch 17 is 1.681011438369751.\n",
      "model: model3 accuracy: 0.9741830065359477 precision: 0.9490325302234183 recall: 0.9741830065359477 f1_score: 0.98692269491806\n",
      "Total loss in epoch 18 is 1.7294042110443115.\n",
      "model: model3 accuracy: 0.9741830065359477 precision: 0.9490325302234183 recall: 0.9741830065359477 f1_score: 0.98692269491806\n",
      "Total loss in epoch 19 is 1.6854240894317627.\n",
      "model: model3 accuracy: 0.9741830065359477 precision: 0.9490325302234183 recall: 0.9741830065359477 f1_score: 0.98692269491806\n",
      "trainx_shape: torch.Size([526, 102, 7])\n",
      "Total loss in epoch 0 is 13.162174224853516.\n",
      "model: model4 accuracy: 0.9741830065359477 precision: 0.9490325302234183 recall: 0.9741830065359477 f1_score: 0.98692269491806\n",
      "Total loss in epoch 1 is 2.7800674438476562.\n",
      "model: model4 accuracy: 0.9741830065359477 precision: 0.9490325302234183 recall: 0.9741830065359477 f1_score: 0.98692269491806\n",
      "Total loss in epoch 2 is 2.4329912662506104.\n",
      "model: model4 accuracy: 0.9741830065359477 precision: 0.9490325302234183 recall: 0.9741830065359477 f1_score: 0.98692269491806\n",
      "trainx_shape: torch.Size([526, 102, 7])\n",
      "Total loss in epoch 0 is 15.311899185180664.\n",
      "model: model5 accuracy: 0.003137254901960784 precision: 9.84236831987697e-06 recall: 0.003137254901960784 f1_score: 0.006254886630179828\n"
     ]
    },
    {
     "name": "stdout",
     "output_type": "stream",
     "text": [
      "Total loss in epoch 1 is 14.697844505310059.\n",
      "model: model5 accuracy: 0.003137254901960784 precision: 9.84236831987697e-06 recall: 0.003137254901960784 f1_score: 0.006254886630179828\n",
      "Total loss in epoch 2 is 14.007574081420898.\n",
      "model: model5 accuracy: 0.877516339869281 precision: 0.9608893487505562 recall: 0.877516339869281 f1_score: 0.8384133844594686\n",
      "Total loss in epoch 3 is 13.142661094665527.\n",
      "model: model5 accuracy: 0.9323529411764706 precision: 0.9544105886845001 recall: 0.9323529411764706 f1_score: 0.9217570880913663\n",
      "Total loss in epoch 4 is 11.982547760009766.\n",
      "model: model5 accuracy: 0.9403921568627451 precision: 0.9529570895024675 recall: 0.9403921568627451 f1_score: 0.9343855682977651\n",
      "Total loss in epoch 5 is 10.427029609680176.\n",
      "model: model5 accuracy: 0.9490196078431372 precision: 0.9521240861776809 recall: 0.9490196078431372 f1_score: 0.9476355787398807\n",
      "Total loss in epoch 6 is 8.567299842834473.\n",
      "model: model5 accuracy: 0.9579738562091503 precision: 0.9515252723311548 recall: 0.9579738562091503 f1_score: 0.9613469284844123\n",
      "Total loss in epoch 7 is 6.762693405151367.\n",
      "model: model5 accuracy: 0.9579738562091503 precision: 0.9515252723311548 recall: 0.9579738562091503 f1_score: 0.9613469284844123\n",
      "Total loss in epoch 8 is 5.318792819976807.\n",
      "model: model5 accuracy: 0.9667320261437908 precision: 0.9507946935870056 recall: 0.9667320261437908 f1_score: 0.9748445174076614\n",
      "Total loss in epoch 9 is 4.284915924072266.\n",
      "model: model5 accuracy: 0.9667320261437908 precision: 0.9507946935870056 recall: 0.9667320261437908 f1_score: 0.9748445174076614\n",
      "Total loss in epoch 10 is 3.550957441329956.\n",
      "model: model5 accuracy: 0.9667320261437908 precision: 0.9507946935870056 recall: 0.9667320261437908 f1_score: 0.9748445174076614\n",
      "Total loss in epoch 11 is 3.0708014965057373.\n",
      "model: model5 accuracy: 0.9667320261437908 precision: 0.9507946935870056 recall: 0.9667320261437908 f1_score: 0.9748445174076614\n",
      "Total loss in epoch 12 is 2.68459415435791.\n",
      "model: model5 accuracy: 0.9667320261437908 precision: 0.9507946935870056 recall: 0.9667320261437908 f1_score: 0.9748445174076614\n",
      "Total loss in epoch 13 is 2.457787275314331.\n",
      "model: model5 accuracy: 0.9667320261437908 precision: 0.9507946935870056 recall: 0.9667320261437908 f1_score: 0.9748445174076614\n",
      "Total loss in epoch 14 is 2.285900831222534.\n",
      "model: model5 accuracy: 0.9667320261437908 precision: 0.9507946935870056 recall: 0.9667320261437908 f1_score: 0.9748445174076614\n",
      "Total loss in epoch 15 is 2.1182034015655518.\n",
      "model: model5 accuracy: 0.9667320261437908 precision: 0.9507946935870056 recall: 0.9667320261437908 f1_score: 0.9748445174076614\n",
      "Total loss in epoch 16 is 2.0124683380126953.\n",
      "model: model5 accuracy: 0.9667320261437908 precision: 0.9507946935870056 recall: 0.9667320261437908 f1_score: 0.9748445174076614\n",
      "Total loss in epoch 17 is 1.9482911825180054.\n",
      "model: model5 accuracy: 0.9667320261437908 precision: 0.9507946935870056 recall: 0.9667320261437908 f1_score: 0.9748445174076614\n",
      "Total loss in epoch 18 is 1.9075427055358887.\n",
      "model: model5 accuracy: 0.9667320261437908 precision: 0.9507946935870056 recall: 0.9667320261437908 f1_score: 0.9748445174076614\n",
      "Total loss in epoch 19 is 1.8235273361206055.\n",
      "model: model5 accuracy: 0.9667320261437908 precision: 0.9507946935870056 recall: 0.9667320261437908 f1_score: 0.9748445174076614\n",
      "Total loss in epoch 20 is 1.7676031589508057.\n",
      "model: model5 accuracy: 0.9667320261437908 precision: 0.9507946935870056 recall: 0.9667320261437908 f1_score: 0.9748445174076614\n",
      "Total loss in epoch 21 is 1.6932368278503418.\n",
      "model: model5 accuracy: 0.9741830065359477 precision: 0.9490325302234183 recall: 0.9741830065359477 f1_score: 0.98692269491806\n",
      "Total loss in epoch 22 is 1.67231023311615.\n",
      "model: model5 accuracy: 0.9741830065359477 precision: 0.9490325302234183 recall: 0.9741830065359477 f1_score: 0.98692269491806\n",
      "Total loss in epoch 23 is 1.6577439308166504.\n",
      "model: model5 accuracy: 0.9741830065359477 precision: 0.9490325302234183 recall: 0.9741830065359477 f1_score: 0.98692269491806\n",
      "Total loss in epoch 24 is 1.6055264472961426.\n",
      "model: model5 accuracy: 0.9741830065359477 precision: 0.9490325302234183 recall: 0.9741830065359477 f1_score: 0.98692269491806\n",
      "Total loss in epoch 25 is 1.6369056701660156.\n",
      "model: model5 accuracy: 0.9741830065359477 precision: 0.9490325302234183 recall: 0.9741830065359477 f1_score: 0.98692269491806\n",
      "Total loss in epoch 26 is 1.5419251918792725.\n",
      "model: model5 accuracy: 0.9741830065359477 precision: 0.9490325302234183 recall: 0.9741830065359477 f1_score: 0.98692269491806\n",
      "Total loss in epoch 27 is 1.662184715270996.\n",
      "model: model5 accuracy: 0.9741830065359477 precision: 0.9490325302234183 recall: 0.9741830065359477 f1_score: 0.98692269491806\n",
      "Total loss in epoch 28 is 1.5583140850067139.\n",
      "model: model5 accuracy: 0.9741830065359477 precision: 0.9490325302234183 recall: 0.9741830065359477 f1_score: 0.98692269491806\n",
      "Total loss in epoch 29 is 1.5023744106292725.\n",
      "model: model5 accuracy: 0.9741830065359477 precision: 0.9490325302234183 recall: 0.9741830065359477 f1_score: 0.98692269491806\n",
      "Total loss in epoch 30 is 1.5548102855682373.\n",
      "model: model5 accuracy: 0.9741830065359477 precision: 0.9490325302234183 recall: 0.9741830065359477 f1_score: 0.98692269491806\n",
      "Total loss in epoch 31 is 1.506917953491211.\n",
      "model: model5 accuracy: 0.9741830065359477 precision: 0.9490325302234183 recall: 0.9741830065359477 f1_score: 0.98692269491806\n",
      "Total loss in epoch 32 is 1.4743845462799072.\n",
      "model: model5 accuracy: 0.9741830065359477 precision: 0.9490325302234183 recall: 0.9741830065359477 f1_score: 0.98692269491806\n",
      "Total loss in epoch 33 is 1.4407262802124023.\n",
      "model: model5 accuracy: 0.9741830065359477 precision: 0.9490325302234183 recall: 0.9741830065359477 f1_score: 0.98692269491806\n",
      "Total loss in epoch 34 is 1.4817144870758057.\n",
      "model: model5 accuracy: 0.9741830065359477 precision: 0.9490325302234183 recall: 0.9741830065359477 f1_score: 0.98692269491806\n",
      "Total loss in epoch 35 is 1.4365674257278442.\n",
      "model: model5 accuracy: 0.9741830065359477 precision: 0.9490325302234183 recall: 0.9741830065359477 f1_score: 0.98692269491806\n",
      "Total loss in epoch 36 is 1.3983228206634521.\n",
      "model: model5 accuracy: 0.9741830065359477 precision: 0.9490325302234183 recall: 0.9741830065359477 f1_score: 0.98692269491806\n",
      "Total loss in epoch 37 is 1.4232375621795654.\n",
      "model: model5 accuracy: 0.9741830065359477 precision: 0.9490325302234183 recall: 0.9741830065359477 f1_score: 0.98692269491806\n",
      "Total loss in epoch 38 is 1.3968005180358887.\n",
      "model: model5 accuracy: 0.9741830065359477 precision: 0.9490325302234183 recall: 0.9741830065359477 f1_score: 0.98692269491806\n",
      "Total loss in epoch 39 is 1.3931697607040405.\n",
      "model: model5 accuracy: 0.9741830065359477 precision: 0.9490325302234183 recall: 0.9741830065359477 f1_score: 0.98692269491806\n",
      "Total loss in epoch 40 is 1.3638731241226196.\n",
      "model: model5 accuracy: 0.9741830065359477 precision: 0.9490325302234183 recall: 0.9741830065359477 f1_score: 0.98692269491806\n",
      "Total loss in epoch 41 is 1.3418726921081543.\n",
      "model: model5 accuracy: 0.9741830065359477 precision: 0.9490325302234183 recall: 0.9741830065359477 f1_score: 0.98692269491806\n",
      "Total loss in epoch 42 is 1.359772801399231.\n",
      "model: model5 accuracy: 0.9741830065359477 precision: 0.9490325302234183 recall: 0.9741830065359477 f1_score: 0.98692269491806\n",
      "Total loss in epoch 43 is 1.3455146551132202.\n",
      "model: model5 accuracy: 0.9741830065359477 precision: 0.9490325302234183 recall: 0.9741830065359477 f1_score: 0.98692269491806\n",
      "Total loss in epoch 44 is 1.338596224784851.\n",
      "model: model5 accuracy: 0.9741830065359477 precision: 0.9490325302234183 recall: 0.9741830065359477 f1_score: 0.98692269491806\n",
      "Total loss in epoch 45 is 1.3454604148864746.\n",
      "model: model5 accuracy: 0.9741830065359477 precision: 0.9490325302234183 recall: 0.9741830065359477 f1_score: 0.98692269491806\n",
      "Total loss in epoch 46 is 1.3717414140701294.\n",
      "model: model5 accuracy: 0.9741830065359477 precision: 0.9490325302234183 recall: 0.9741830065359477 f1_score: 0.98692269491806\n",
      "Total loss in epoch 47 is 1.373298168182373.\n",
      "model: model5 accuracy: 0.9741830065359477 precision: 0.9490325302234183 recall: 0.9741830065359477 f1_score: 0.98692269491806\n",
      "Total loss in epoch 48 is 1.294738531112671.\n"
     ]
    },
    {
     "name": "stdout",
     "output_type": "stream",
     "text": [
      "model: model5 accuracy: 0.9741830065359477 precision: 0.9490325302234183 recall: 0.9741830065359477 f1_score: 0.98692269491806\n",
      "Total loss in epoch 49 is 1.3241479396820068.\n",
      "model: model5 accuracy: 0.9741830065359477 precision: 0.9490325302234183 recall: 0.9741830065359477 f1_score: 0.98692269491806\n",
      "Total loss in epoch 50 is 1.3004554510116577.\n",
      "model: model5 accuracy: 0.9741830065359477 precision: 0.9490325302234183 recall: 0.9741830065359477 f1_score: 0.98692269491806\n",
      "Total loss in epoch 51 is 1.3236881494522095.\n",
      "model: model5 accuracy: 0.9741830065359477 precision: 0.9490325302234183 recall: 0.9741830065359477 f1_score: 0.98692269491806\n",
      "Total loss in epoch 52 is 1.2944470643997192.\n",
      "model: model5 accuracy: 0.9741830065359477 precision: 0.9490325302234183 recall: 0.9741830065359477 f1_score: 0.98692269491806\n",
      "Total loss in epoch 53 is 1.2601412534713745.\n",
      "model: model5 accuracy: 0.9741830065359477 precision: 0.9490325302234183 recall: 0.9741830065359477 f1_score: 0.98692269491806\n",
      "Total loss in epoch 54 is 1.2784812450408936.\n",
      "model: model5 accuracy: 0.9741830065359477 precision: 0.9490325302234183 recall: 0.9741830065359477 f1_score: 0.98692269491806\n",
      "Total loss in epoch 55 is 1.2559736967086792.\n",
      "model: model5 accuracy: 0.9741830065359477 precision: 0.9490325302234183 recall: 0.9741830065359477 f1_score: 0.98692269491806\n",
      "Total loss in epoch 56 is 1.337083101272583.\n",
      "model: model5 accuracy: 0.9741830065359477 precision: 0.9490325302234183 recall: 0.9741830065359477 f1_score: 0.98692269491806\n",
      "Total loss in epoch 57 is 1.3267943859100342.\n",
      "model: model5 accuracy: 0.9741830065359477 precision: 0.9490325302234183 recall: 0.9741830065359477 f1_score: 0.98692269491806\n",
      "Total loss in epoch 58 is 1.2673847675323486.\n",
      "model: model5 accuracy: 0.9741830065359477 precision: 0.9490325302234183 recall: 0.9741830065359477 f1_score: 0.98692269491806\n",
      "Total loss in epoch 59 is 1.3235785961151123.\n",
      "model: model5 accuracy: 0.9741830065359477 precision: 0.9490325302234183 recall: 0.9741830065359477 f1_score: 0.98692269491806\n",
      "Total loss in epoch 60 is 1.2277452945709229.\n",
      "model: model5 accuracy: 0.9741830065359477 precision: 0.9490325302234183 recall: 0.9741830065359477 f1_score: 0.98692269491806\n",
      "Total loss in epoch 61 is 1.3476462364196777.\n",
      "model: model5 accuracy: 0.9741830065359477 precision: 0.9490325302234183 recall: 0.9741830065359477 f1_score: 0.98692269491806\n",
      "Total loss in epoch 62 is 1.2634519338607788.\n",
      "model: model5 accuracy: 0.9741830065359477 precision: 0.9490325302234183 recall: 0.9741830065359477 f1_score: 0.98692269491806\n",
      "Total loss in epoch 63 is 1.2273200750350952.\n",
      "model: model5 accuracy: 0.9741830065359477 precision: 0.9490325302234183 recall: 0.9741830065359477 f1_score: 0.98692269491806\n",
      "Total loss in epoch 64 is 1.2367478609085083.\n",
      "model: model5 accuracy: 0.9741830065359477 precision: 0.9490325302234183 recall: 0.9741830065359477 f1_score: 0.98692269491806\n",
      "Total loss in epoch 65 is 1.228280782699585.\n",
      "model: model5 accuracy: 0.9741830065359477 precision: 0.9490325302234183 recall: 0.9741830065359477 f1_score: 0.98692269491806\n",
      "Total loss in epoch 66 is 1.2274806499481201.\n",
      "model: model5 accuracy: 0.9741830065359477 precision: 0.9490325302234183 recall: 0.9741830065359477 f1_score: 0.98692269491806\n",
      "Total loss in epoch 67 is 1.2325091361999512.\n",
      "model: model5 accuracy: 0.9741830065359477 precision: 0.9490325302234183 recall: 0.9741830065359477 f1_score: 0.98692269491806\n",
      "Total loss in epoch 68 is 1.1929514408111572.\n",
      "model: model5 accuracy: 0.9741830065359477 precision: 0.9490325302234183 recall: 0.9741830065359477 f1_score: 0.98692269491806\n",
      "Total loss in epoch 69 is 1.235064148902893.\n",
      "model: model5 accuracy: 0.9741830065359477 precision: 0.9490325302234183 recall: 0.9741830065359477 f1_score: 0.98692269491806\n",
      "Total loss in epoch 70 is 1.195607304573059.\n",
      "model: model5 accuracy: 0.9741830065359477 precision: 0.9490325302234183 recall: 0.9741830065359477 f1_score: 0.98692269491806\n",
      "Total loss in epoch 71 is 1.1894593238830566.\n",
      "model: model5 accuracy: 0.9741830065359477 precision: 0.9490325302234183 recall: 0.9741830065359477 f1_score: 0.98692269491806\n",
      "Total loss in epoch 72 is 1.199059009552002.\n",
      "model: model5 accuracy: 0.9741830065359477 precision: 0.9490325302234183 recall: 0.9741830065359477 f1_score: 0.98692269491806\n",
      "Total loss in epoch 73 is 1.191249966621399.\n",
      "model: model5 accuracy: 0.9741830065359477 precision: 0.9490325302234183 recall: 0.9741830065359477 f1_score: 0.98692269491806\n",
      "Total loss in epoch 74 is 1.2171094417572021.\n",
      "model: model5 accuracy: 0.9741830065359477 precision: 0.9490325302234183 recall: 0.9741830065359477 f1_score: 0.98692269491806\n",
      "Total loss in epoch 75 is 1.1818376779556274.\n",
      "model: model5 accuracy: 0.9741830065359477 precision: 0.9490325302234183 recall: 0.9741830065359477 f1_score: 0.98692269491806\n",
      "Total loss in epoch 76 is 1.1764808893203735.\n",
      "model: model5 accuracy: 0.9741830065359477 precision: 0.9490325302234183 recall: 0.9741830065359477 f1_score: 0.98692269491806\n",
      "Total loss in epoch 77 is 1.1784887313842773.\n",
      "model: model5 accuracy: 0.9741830065359477 precision: 0.9490325302234183 recall: 0.9741830065359477 f1_score: 0.98692269491806\n",
      "Total loss in epoch 78 is 1.1902577877044678.\n",
      "model: model5 accuracy: 0.9741830065359477 precision: 0.9490325302234183 recall: 0.9741830065359477 f1_score: 0.98692269491806\n",
      "Total loss in epoch 79 is 1.1735880374908447.\n",
      "model: model5 accuracy: 0.9741830065359477 precision: 0.9490325302234183 recall: 0.9741830065359477 f1_score: 0.98692269491806\n",
      "Total loss in epoch 80 is 1.181777000427246.\n",
      "model: model5 accuracy: 0.9741830065359477 precision: 0.9490325302234183 recall: 0.9741830065359477 f1_score: 0.98692269491806\n",
      "Total loss in epoch 81 is 1.1610136032104492.\n",
      "model: model5 accuracy: 0.9741830065359477 precision: 0.9490325302234183 recall: 0.9741830065359477 f1_score: 0.98692269491806\n",
      "Total loss in epoch 82 is 1.1607388257980347.\n",
      "model: model5 accuracy: 0.9741830065359477 precision: 0.9490325302234183 recall: 0.9741830065359477 f1_score: 0.98692269491806\n",
      "Total loss in epoch 83 is 1.1762714385986328.\n",
      "model: model5 accuracy: 0.9741830065359477 precision: 0.9490325302234183 recall: 0.9741830065359477 f1_score: 0.98692269491806\n",
      "Total loss in epoch 84 is 1.170678734779358.\n",
      "model: model5 accuracy: 0.9741830065359477 precision: 0.9490325302234183 recall: 0.9741830065359477 f1_score: 0.98692269491806\n",
      "Total loss in epoch 85 is 1.210737943649292.\n",
      "model: model5 accuracy: 0.9741830065359477 precision: 0.9490325302234183 recall: 0.9741830065359477 f1_score: 0.98692269491806\n",
      "Total loss in epoch 86 is 1.2291287183761597.\n",
      "model: model5 accuracy: 0.9741830065359477 precision: 0.9490325302234183 recall: 0.9741830065359477 f1_score: 0.98692269491806\n",
      "Total loss in epoch 87 is 1.1629807949066162.\n",
      "model: model5 accuracy: 0.9741830065359477 precision: 0.9490325302234183 recall: 0.9741830065359477 f1_score: 0.98692269491806\n",
      "Total loss in epoch 88 is 1.1604468822479248.\n",
      "model: model5 accuracy: 0.9741830065359477 precision: 0.9490325302234183 recall: 0.9741830065359477 f1_score: 0.98692269491806\n",
      "Total loss in epoch 89 is 1.1589865684509277.\n",
      "model: model5 accuracy: 0.9741830065359477 precision: 0.9490325302234183 recall: 0.9741830065359477 f1_score: 0.98692269491806\n",
      "Total loss in epoch 90 is 1.1883667707443237.\n",
      "model: model5 accuracy: 0.9741830065359477 precision: 0.9490325302234183 recall: 0.9741830065359477 f1_score: 0.98692269491806\n",
      "Total loss in epoch 91 is 1.1899302005767822.\n",
      "model: model5 accuracy: 0.9741830065359477 precision: 0.9490325302234183 recall: 0.9741830065359477 f1_score: 0.98692269491806\n",
      "Total loss in epoch 92 is 1.1406035423278809.\n",
      "model: model5 accuracy: 0.9741830065359477 precision: 0.9490325302234183 recall: 0.9741830065359477 f1_score: 0.98692269491806\n",
      "Total loss in epoch 93 is 1.1253793239593506.\n",
      "model: model5 accuracy: 0.9741830065359477 precision: 0.9490325302234183 recall: 0.9741830065359477 f1_score: 0.98692269491806\n",
      "Total loss in epoch 94 is 1.1637747287750244.\n",
      "model: model5 accuracy: 0.9741830065359477 precision: 0.9490325302234183 recall: 0.9741830065359477 f1_score: 0.98692269491806\n",
      "Total loss in epoch 95 is 1.1512173414230347.\n",
      "model: model5 accuracy: 0.9741830065359477 precision: 0.9490325302234183 recall: 0.9741830065359477 f1_score: 0.98692269491806\n"
     ]
    },
    {
     "name": "stdout",
     "output_type": "stream",
     "text": [
      "Total loss in epoch 96 is 1.1636745929718018.\n",
      "model: model5 accuracy: 0.9741830065359477 precision: 0.9490325302234183 recall: 0.9741830065359477 f1_score: 0.98692269491806\n",
      "Total loss in epoch 97 is 1.165515661239624.\n",
      "model: model5 accuracy: 0.9741830065359477 precision: 0.9490325302234183 recall: 0.9741830065359477 f1_score: 0.98692269491806\n",
      "Total loss in epoch 98 is 1.1432955265045166.\n",
      "model: model5 accuracy: 0.9741830065359477 precision: 0.9490325302234183 recall: 0.9741830065359477 f1_score: 0.98692269491806\n",
      "Total loss in epoch 99 is 1.1434210538864136.\n",
      "model: model5 accuracy: 0.9741830065359477 precision: 0.9490325302234183 recall: 0.9741830065359477 f1_score: 0.98692269491806\n"
     ]
    }
   ],
   "source": [
    "# hyperparamater tuning\n",
    "# train you model with your set of hyperparamaters\n",
    "for hp in set_hyperparamaters:\n",
    "    trainer.train(train_X, train_y, val_X, val_y, ClassifierModel, hp)"
   ]
  },
  {
   "cell_type": "code",
   "execution_count": 23,
   "metadata": {},
   "outputs": [
    {
     "name": "stdout",
     "output_type": "stream",
     "text": [
      "models found: ['aa2_models/model1.pt', 'aa2_models/model2.pt', 'aa2_models/model3.pt', 'aa2_models/model4.pt', 'aa2_models/model5.pt', 'aa2_models/model6.pt', 'aa2_models/model7.pt', 'aa2_models/model8.pt']\n"
     ]
    },
    {
     "data": {
      "application/vnd.plotly.v1+json": {
       "config": {
        "plotlyServerURL": "https://plot.ly"
       },
       "data": [
        {
         "dimensions": [
          {
           "label": "model_name",
           "range": [
            0,
            7
           ],
           "ticktext": [
            "model1",
            "model2",
            "model3",
            "model4",
            "model5",
            "model6",
            "model7",
            "model8"
           ],
           "tickvals": [
            0,
            1,
            2,
            3,
            4,
            5,
            6,
            7
           ],
           "values": [
            0,
            1,
            2,
            3,
            4,
            5,
            6,
            7
           ]
          },
          {
           "label": "learning_rate",
           "range": [
            1e-05,
            0.1
           ],
           "values": [
            0.001,
            0.01,
            0.1,
            0.001,
            0.0001,
            0.0001,
            0.0001,
            1e-05
           ]
          },
          {
           "label": "number_layers",
           "range": [
            1,
            20
           ],
           "values": [
            5,
            5,
            5,
            10,
            10,
            20,
            10,
            1
           ]
          },
          {
           "label": "optimizer",
           "range": [
            0,
            1
           ],
           "ticktext": [
            "SGD",
            "adam"
           ],
           "tickvals": [
            0,
            1
           ],
           "values": [
            1,
            0,
            1,
            1,
            1,
            1,
            1,
            1
           ]
          },
          {
           "label": "hidden_size",
           "range": [
            2,
            50
           ],
           "values": [
            4,
            4,
            4,
            50,
            50,
            4,
            10,
            2
           ]
          },
          {
           "label": "batch_size",
           "range": [
            32,
            64
           ],
           "values": [
            32,
            32,
            32,
            32,
            64,
            32,
            32,
            32
           ]
          },
          {
           "label": "epochs",
           "range": [
            3,
            100
           ],
           "values": [
            50,
            20,
            20,
            3,
            100,
            50,
            50,
            50
           ]
          },
          {
           "label": "f1_score",
           "range": [
            0.756813171365393,
            0.98692269491806
           ],
           "values": [
            0.98692269491806,
            0.98692269491806,
            0.98692269491806,
            0.98692269491806,
            0.98692269491806,
            0.9742746306002606,
            0.98692269491806,
            0.756813171365393
           ]
          }
         ],
         "line": {
          "cmax": 0.98692269491806,
          "cmin": 0.756813171365393,
          "color": [
           0.98692269491806,
           0.98692269491806,
           0.98692269491806,
           0.98692269491806,
           0.98692269491806,
           0.9742746306002606,
           0.98692269491806,
           0.756813171365393
          ],
          "colorscale": [
           [
            0,
            "rgb(0,0,0)"
           ],
           [
            0.2,
            "rgb(30,0,100)"
           ],
           [
            0.4,
            "rgb(120,0,100)"
           ],
           [
            0.6,
            "rgb(160,90,0)"
           ],
           [
            0.8,
            "rgb(230,200,0)"
           ],
           [
            1,
            "rgb(255,250,220)"
           ]
          ],
          "showscale": true
         },
         "type": "parcoords"
        }
       ],
       "layout": {
        "margin": {
         "b": 20,
         "l": 120,
         "r": 30,
         "t": 40
        },
        "template": {
         "data": {
          "bar": [
           {
            "error_x": {
             "color": "#2a3f5f"
            },
            "error_y": {
             "color": "#2a3f5f"
            },
            "marker": {
             "line": {
              "color": "#E5ECF6",
              "width": 0.5
             }
            },
            "type": "bar"
           }
          ],
          "barpolar": [
           {
            "marker": {
             "line": {
              "color": "#E5ECF6",
              "width": 0.5
             }
            },
            "type": "barpolar"
           }
          ],
          "carpet": [
           {
            "aaxis": {
             "endlinecolor": "#2a3f5f",
             "gridcolor": "white",
             "linecolor": "white",
             "minorgridcolor": "white",
             "startlinecolor": "#2a3f5f"
            },
            "baxis": {
             "endlinecolor": "#2a3f5f",
             "gridcolor": "white",
             "linecolor": "white",
             "minorgridcolor": "white",
             "startlinecolor": "#2a3f5f"
            },
            "type": "carpet"
           }
          ],
          "choropleth": [
           {
            "colorbar": {
             "outlinewidth": 0,
             "ticks": ""
            },
            "type": "choropleth"
           }
          ],
          "contour": [
           {
            "colorbar": {
             "outlinewidth": 0,
             "ticks": ""
            },
            "colorscale": [
             [
              0,
              "#0d0887"
             ],
             [
              0.1111111111111111,
              "#46039f"
             ],
             [
              0.2222222222222222,
              "#7201a8"
             ],
             [
              0.3333333333333333,
              "#9c179e"
             ],
             [
              0.4444444444444444,
              "#bd3786"
             ],
             [
              0.5555555555555556,
              "#d8576b"
             ],
             [
              0.6666666666666666,
              "#ed7953"
             ],
             [
              0.7777777777777778,
              "#fb9f3a"
             ],
             [
              0.8888888888888888,
              "#fdca26"
             ],
             [
              1,
              "#f0f921"
             ]
            ],
            "type": "contour"
           }
          ],
          "contourcarpet": [
           {
            "colorbar": {
             "outlinewidth": 0,
             "ticks": ""
            },
            "type": "contourcarpet"
           }
          ],
          "heatmap": [
           {
            "colorbar": {
             "outlinewidth": 0,
             "ticks": ""
            },
            "colorscale": [
             [
              0,
              "#0d0887"
             ],
             [
              0.1111111111111111,
              "#46039f"
             ],
             [
              0.2222222222222222,
              "#7201a8"
             ],
             [
              0.3333333333333333,
              "#9c179e"
             ],
             [
              0.4444444444444444,
              "#bd3786"
             ],
             [
              0.5555555555555556,
              "#d8576b"
             ],
             [
              0.6666666666666666,
              "#ed7953"
             ],
             [
              0.7777777777777778,
              "#fb9f3a"
             ],
             [
              0.8888888888888888,
              "#fdca26"
             ],
             [
              1,
              "#f0f921"
             ]
            ],
            "type": "heatmap"
           }
          ],
          "heatmapgl": [
           {
            "colorbar": {
             "outlinewidth": 0,
             "ticks": ""
            },
            "colorscale": [
             [
              0,
              "#0d0887"
             ],
             [
              0.1111111111111111,
              "#46039f"
             ],
             [
              0.2222222222222222,
              "#7201a8"
             ],
             [
              0.3333333333333333,
              "#9c179e"
             ],
             [
              0.4444444444444444,
              "#bd3786"
             ],
             [
              0.5555555555555556,
              "#d8576b"
             ],
             [
              0.6666666666666666,
              "#ed7953"
             ],
             [
              0.7777777777777778,
              "#fb9f3a"
             ],
             [
              0.8888888888888888,
              "#fdca26"
             ],
             [
              1,
              "#f0f921"
             ]
            ],
            "type": "heatmapgl"
           }
          ],
          "histogram": [
           {
            "marker": {
             "colorbar": {
              "outlinewidth": 0,
              "ticks": ""
             }
            },
            "type": "histogram"
           }
          ],
          "histogram2d": [
           {
            "colorbar": {
             "outlinewidth": 0,
             "ticks": ""
            },
            "colorscale": [
             [
              0,
              "#0d0887"
             ],
             [
              0.1111111111111111,
              "#46039f"
             ],
             [
              0.2222222222222222,
              "#7201a8"
             ],
             [
              0.3333333333333333,
              "#9c179e"
             ],
             [
              0.4444444444444444,
              "#bd3786"
             ],
             [
              0.5555555555555556,
              "#d8576b"
             ],
             [
              0.6666666666666666,
              "#ed7953"
             ],
             [
              0.7777777777777778,
              "#fb9f3a"
             ],
             [
              0.8888888888888888,
              "#fdca26"
             ],
             [
              1,
              "#f0f921"
             ]
            ],
            "type": "histogram2d"
           }
          ],
          "histogram2dcontour": [
           {
            "colorbar": {
             "outlinewidth": 0,
             "ticks": ""
            },
            "colorscale": [
             [
              0,
              "#0d0887"
             ],
             [
              0.1111111111111111,
              "#46039f"
             ],
             [
              0.2222222222222222,
              "#7201a8"
             ],
             [
              0.3333333333333333,
              "#9c179e"
             ],
             [
              0.4444444444444444,
              "#bd3786"
             ],
             [
              0.5555555555555556,
              "#d8576b"
             ],
             [
              0.6666666666666666,
              "#ed7953"
             ],
             [
              0.7777777777777778,
              "#fb9f3a"
             ],
             [
              0.8888888888888888,
              "#fdca26"
             ],
             [
              1,
              "#f0f921"
             ]
            ],
            "type": "histogram2dcontour"
           }
          ],
          "mesh3d": [
           {
            "colorbar": {
             "outlinewidth": 0,
             "ticks": ""
            },
            "type": "mesh3d"
           }
          ],
          "parcoords": [
           {
            "line": {
             "colorbar": {
              "outlinewidth": 0,
              "ticks": ""
             }
            },
            "type": "parcoords"
           }
          ],
          "pie": [
           {
            "automargin": true,
            "type": "pie"
           }
          ],
          "scatter": [
           {
            "marker": {
             "colorbar": {
              "outlinewidth": 0,
              "ticks": ""
             }
            },
            "type": "scatter"
           }
          ],
          "scatter3d": [
           {
            "line": {
             "colorbar": {
              "outlinewidth": 0,
              "ticks": ""
             }
            },
            "marker": {
             "colorbar": {
              "outlinewidth": 0,
              "ticks": ""
             }
            },
            "type": "scatter3d"
           }
          ],
          "scattercarpet": [
           {
            "marker": {
             "colorbar": {
              "outlinewidth": 0,
              "ticks": ""
             }
            },
            "type": "scattercarpet"
           }
          ],
          "scattergeo": [
           {
            "marker": {
             "colorbar": {
              "outlinewidth": 0,
              "ticks": ""
             }
            },
            "type": "scattergeo"
           }
          ],
          "scattergl": [
           {
            "marker": {
             "colorbar": {
              "outlinewidth": 0,
              "ticks": ""
             }
            },
            "type": "scattergl"
           }
          ],
          "scattermapbox": [
           {
            "marker": {
             "colorbar": {
              "outlinewidth": 0,
              "ticks": ""
             }
            },
            "type": "scattermapbox"
           }
          ],
          "scatterpolar": [
           {
            "marker": {
             "colorbar": {
              "outlinewidth": 0,
              "ticks": ""
             }
            },
            "type": "scatterpolar"
           }
          ],
          "scatterpolargl": [
           {
            "marker": {
             "colorbar": {
              "outlinewidth": 0,
              "ticks": ""
             }
            },
            "type": "scatterpolargl"
           }
          ],
          "scatterternary": [
           {
            "marker": {
             "colorbar": {
              "outlinewidth": 0,
              "ticks": ""
             }
            },
            "type": "scatterternary"
           }
          ],
          "surface": [
           {
            "colorbar": {
             "outlinewidth": 0,
             "ticks": ""
            },
            "colorscale": [
             [
              0,
              "#0d0887"
             ],
             [
              0.1111111111111111,
              "#46039f"
             ],
             [
              0.2222222222222222,
              "#7201a8"
             ],
             [
              0.3333333333333333,
              "#9c179e"
             ],
             [
              0.4444444444444444,
              "#bd3786"
             ],
             [
              0.5555555555555556,
              "#d8576b"
             ],
             [
              0.6666666666666666,
              "#ed7953"
             ],
             [
              0.7777777777777778,
              "#fb9f3a"
             ],
             [
              0.8888888888888888,
              "#fdca26"
             ],
             [
              1,
              "#f0f921"
             ]
            ],
            "type": "surface"
           }
          ],
          "table": [
           {
            "cells": {
             "fill": {
              "color": "#EBF0F8"
             },
             "line": {
              "color": "white"
             }
            },
            "header": {
             "fill": {
              "color": "#C8D4E3"
             },
             "line": {
              "color": "white"
             }
            },
            "type": "table"
           }
          ]
         },
         "layout": {
          "annotationdefaults": {
           "arrowcolor": "#2a3f5f",
           "arrowhead": 0,
           "arrowwidth": 1
          },
          "coloraxis": {
           "colorbar": {
            "outlinewidth": 0,
            "ticks": ""
           }
          },
          "colorscale": {
           "diverging": [
            [
             0,
             "#8e0152"
            ],
            [
             0.1,
             "#c51b7d"
            ],
            [
             0.2,
             "#de77ae"
            ],
            [
             0.3,
             "#f1b6da"
            ],
            [
             0.4,
             "#fde0ef"
            ],
            [
             0.5,
             "#f7f7f7"
            ],
            [
             0.6,
             "#e6f5d0"
            ],
            [
             0.7,
             "#b8e186"
            ],
            [
             0.8,
             "#7fbc41"
            ],
            [
             0.9,
             "#4d9221"
            ],
            [
             1,
             "#276419"
            ]
           ],
           "sequential": [
            [
             0,
             "#0d0887"
            ],
            [
             0.1111111111111111,
             "#46039f"
            ],
            [
             0.2222222222222222,
             "#7201a8"
            ],
            [
             0.3333333333333333,
             "#9c179e"
            ],
            [
             0.4444444444444444,
             "#bd3786"
            ],
            [
             0.5555555555555556,
             "#d8576b"
            ],
            [
             0.6666666666666666,
             "#ed7953"
            ],
            [
             0.7777777777777778,
             "#fb9f3a"
            ],
            [
             0.8888888888888888,
             "#fdca26"
            ],
            [
             1,
             "#f0f921"
            ]
           ],
           "sequentialminus": [
            [
             0,
             "#0d0887"
            ],
            [
             0.1111111111111111,
             "#46039f"
            ],
            [
             0.2222222222222222,
             "#7201a8"
            ],
            [
             0.3333333333333333,
             "#9c179e"
            ],
            [
             0.4444444444444444,
             "#bd3786"
            ],
            [
             0.5555555555555556,
             "#d8576b"
            ],
            [
             0.6666666666666666,
             "#ed7953"
            ],
            [
             0.7777777777777778,
             "#fb9f3a"
            ],
            [
             0.8888888888888888,
             "#fdca26"
            ],
            [
             1,
             "#f0f921"
            ]
           ]
          },
          "colorway": [
           "#636efa",
           "#EF553B",
           "#00cc96",
           "#ab63fa",
           "#FFA15A",
           "#19d3f3",
           "#FF6692",
           "#B6E880",
           "#FF97FF",
           "#FECB52"
          ],
          "font": {
           "color": "#2a3f5f"
          },
          "geo": {
           "bgcolor": "white",
           "lakecolor": "white",
           "landcolor": "#E5ECF6",
           "showlakes": true,
           "showland": true,
           "subunitcolor": "white"
          },
          "hoverlabel": {
           "align": "left"
          },
          "hovermode": "closest",
          "mapbox": {
           "style": "light"
          },
          "paper_bgcolor": "white",
          "plot_bgcolor": "#E5ECF6",
          "polar": {
           "angularaxis": {
            "gridcolor": "white",
            "linecolor": "white",
            "ticks": ""
           },
           "bgcolor": "#E5ECF6",
           "radialaxis": {
            "gridcolor": "white",
            "linecolor": "white",
            "ticks": ""
           }
          },
          "scene": {
           "xaxis": {
            "backgroundcolor": "#E5ECF6",
            "gridcolor": "white",
            "gridwidth": 2,
            "linecolor": "white",
            "showbackground": true,
            "ticks": "",
            "zerolinecolor": "white"
           },
           "yaxis": {
            "backgroundcolor": "#E5ECF6",
            "gridcolor": "white",
            "gridwidth": 2,
            "linecolor": "white",
            "showbackground": true,
            "ticks": "",
            "zerolinecolor": "white"
           },
           "zaxis": {
            "backgroundcolor": "#E5ECF6",
            "gridcolor": "white",
            "gridwidth": 2,
            "linecolor": "white",
            "showbackground": true,
            "ticks": "",
            "zerolinecolor": "white"
           }
          },
          "shapedefaults": {
           "line": {
            "color": "#2a3f5f"
           }
          },
          "ternary": {
           "aaxis": {
            "gridcolor": "white",
            "linecolor": "white",
            "ticks": ""
           },
           "baxis": {
            "gridcolor": "white",
            "linecolor": "white",
            "ticks": ""
           },
           "bgcolor": "#E5ECF6",
           "caxis": {
            "gridcolor": "white",
            "linecolor": "white",
            "ticks": ""
           }
          },
          "title": {
           "x": 0.05
          },
          "xaxis": {
           "automargin": true,
           "gridcolor": "white",
           "linecolor": "white",
           "ticks": "",
           "title": {
            "standoff": 15
           },
           "zerolinecolor": "white",
           "zerolinewidth": 2
          },
          "yaxis": {
           "automargin": true,
           "gridcolor": "white",
           "linecolor": "white",
           "ticks": "",
           "title": {
            "standoff": 15
           },
           "zerolinecolor": "white",
           "zerolinewidth": 2
          }
         }
        }
       }
      },
      "text/html": [
       "<div>                            <div id=\"e7e518b8-9a17-41a3-94a8-eb2aa4f8fdf1\" class=\"plotly-graph-div\" style=\"height:525px; width:100%;\"></div>            <script type=\"text/javascript\">                require([\"plotly\"], function(Plotly) {                    window.PLOTLYENV=window.PLOTLYENV || {};                                    if (document.getElementById(\"e7e518b8-9a17-41a3-94a8-eb2aa4f8fdf1\")) {                    Plotly.newPlot(                        \"e7e518b8-9a17-41a3-94a8-eb2aa4f8fdf1\",                        [{\"dimensions\": [{\"label\": \"model_name\", \"range\": [0, 7], \"ticktext\": [\"model1\", \"model2\", \"model3\", \"model4\", \"model5\", \"model6\", \"model7\", \"model8\"], \"tickvals\": [0, 1, 2, 3, 4, 5, 6, 7], \"values\": [0, 1, 2, 3, 4, 5, 6, 7]}, {\"label\": \"learning_rate\", \"range\": [1e-05, 0.1], \"values\": [0.001, 0.01, 0.1, 0.001, 0.0001, 0.0001, 0.0001, 1e-05]}, {\"label\": \"number_layers\", \"range\": [1, 20], \"values\": [5, 5, 5, 10, 10, 20, 10, 1]}, {\"label\": \"optimizer\", \"range\": [0, 1], \"ticktext\": [\"SGD\", \"adam\"], \"tickvals\": [0, 1], \"values\": [1, 0, 1, 1, 1, 1, 1, 1]}, {\"label\": \"hidden_size\", \"range\": [2, 50], \"values\": [4, 4, 4, 50, 50, 4, 10, 2]}, {\"label\": \"batch_size\", \"range\": [32, 64], \"values\": [32, 32, 32, 32, 64, 32, 32, 32]}, {\"label\": \"epochs\", \"range\": [3, 100], \"values\": [50, 20, 20, 3, 100, 50, 50, 50]}, {\"label\": \"f1_score\", \"range\": [0.756813171365393, 0.98692269491806], \"values\": [0.98692269491806, 0.98692269491806, 0.98692269491806, 0.98692269491806, 0.98692269491806, 0.9742746306002606, 0.98692269491806, 0.756813171365393]}], \"line\": {\"cmax\": 0.98692269491806, \"cmin\": 0.756813171365393, \"color\": [0.98692269491806, 0.98692269491806, 0.98692269491806, 0.98692269491806, 0.98692269491806, 0.9742746306002606, 0.98692269491806, 0.756813171365393], \"colorscale\": [[0.0, \"rgb(0,0,0)\"], [0.2, \"rgb(30,0,100)\"], [0.4, \"rgb(120,0,100)\"], [0.6, \"rgb(160,90,0)\"], [0.8, \"rgb(230,200,0)\"], [1.0, \"rgb(255,250,220)\"]], \"showscale\": true}, \"type\": \"parcoords\"}],                        {\"margin\": {\"b\": 20, \"l\": 120, \"r\": 30, \"t\": 40}, \"template\": {\"data\": {\"bar\": [{\"error_x\": {\"color\": \"#2a3f5f\"}, \"error_y\": {\"color\": \"#2a3f5f\"}, \"marker\": {\"line\": {\"color\": \"#E5ECF6\", \"width\": 0.5}}, \"type\": \"bar\"}], \"barpolar\": [{\"marker\": {\"line\": {\"color\": \"#E5ECF6\", \"width\": 0.5}}, \"type\": \"barpolar\"}], \"carpet\": [{\"aaxis\": {\"endlinecolor\": \"#2a3f5f\", \"gridcolor\": \"white\", \"linecolor\": \"white\", \"minorgridcolor\": \"white\", \"startlinecolor\": \"#2a3f5f\"}, \"baxis\": {\"endlinecolor\": \"#2a3f5f\", \"gridcolor\": \"white\", \"linecolor\": \"white\", \"minorgridcolor\": \"white\", \"startlinecolor\": \"#2a3f5f\"}, \"type\": \"carpet\"}], \"choropleth\": [{\"colorbar\": {\"outlinewidth\": 0, \"ticks\": \"\"}, \"type\": \"choropleth\"}], \"contour\": [{\"colorbar\": {\"outlinewidth\": 0, \"ticks\": \"\"}, \"colorscale\": [[0.0, \"#0d0887\"], [0.1111111111111111, \"#46039f\"], [0.2222222222222222, \"#7201a8\"], [0.3333333333333333, \"#9c179e\"], [0.4444444444444444, \"#bd3786\"], [0.5555555555555556, \"#d8576b\"], [0.6666666666666666, \"#ed7953\"], [0.7777777777777778, \"#fb9f3a\"], [0.8888888888888888, \"#fdca26\"], [1.0, \"#f0f921\"]], \"type\": \"contour\"}], \"contourcarpet\": [{\"colorbar\": {\"outlinewidth\": 0, \"ticks\": \"\"}, \"type\": \"contourcarpet\"}], \"heatmap\": [{\"colorbar\": {\"outlinewidth\": 0, \"ticks\": \"\"}, \"colorscale\": [[0.0, \"#0d0887\"], [0.1111111111111111, \"#46039f\"], [0.2222222222222222, \"#7201a8\"], [0.3333333333333333, \"#9c179e\"], [0.4444444444444444, \"#bd3786\"], [0.5555555555555556, \"#d8576b\"], [0.6666666666666666, \"#ed7953\"], [0.7777777777777778, \"#fb9f3a\"], [0.8888888888888888, \"#fdca26\"], [1.0, \"#f0f921\"]], \"type\": \"heatmap\"}], \"heatmapgl\": [{\"colorbar\": {\"outlinewidth\": 0, \"ticks\": \"\"}, \"colorscale\": [[0.0, \"#0d0887\"], [0.1111111111111111, \"#46039f\"], [0.2222222222222222, \"#7201a8\"], [0.3333333333333333, \"#9c179e\"], [0.4444444444444444, \"#bd3786\"], [0.5555555555555556, \"#d8576b\"], [0.6666666666666666, \"#ed7953\"], [0.7777777777777778, \"#fb9f3a\"], [0.8888888888888888, \"#fdca26\"], [1.0, \"#f0f921\"]], \"type\": \"heatmapgl\"}], \"histogram\": [{\"marker\": {\"colorbar\": {\"outlinewidth\": 0, \"ticks\": \"\"}}, \"type\": \"histogram\"}], \"histogram2d\": [{\"colorbar\": {\"outlinewidth\": 0, \"ticks\": \"\"}, \"colorscale\": [[0.0, \"#0d0887\"], [0.1111111111111111, \"#46039f\"], [0.2222222222222222, \"#7201a8\"], [0.3333333333333333, \"#9c179e\"], [0.4444444444444444, \"#bd3786\"], [0.5555555555555556, \"#d8576b\"], [0.6666666666666666, \"#ed7953\"], [0.7777777777777778, \"#fb9f3a\"], [0.8888888888888888, \"#fdca26\"], [1.0, \"#f0f921\"]], \"type\": \"histogram2d\"}], \"histogram2dcontour\": [{\"colorbar\": {\"outlinewidth\": 0, \"ticks\": \"\"}, \"colorscale\": [[0.0, \"#0d0887\"], [0.1111111111111111, \"#46039f\"], [0.2222222222222222, \"#7201a8\"], [0.3333333333333333, \"#9c179e\"], [0.4444444444444444, \"#bd3786\"], [0.5555555555555556, \"#d8576b\"], [0.6666666666666666, \"#ed7953\"], [0.7777777777777778, \"#fb9f3a\"], [0.8888888888888888, \"#fdca26\"], [1.0, \"#f0f921\"]], \"type\": \"histogram2dcontour\"}], \"mesh3d\": [{\"colorbar\": {\"outlinewidth\": 0, \"ticks\": \"\"}, \"type\": \"mesh3d\"}], \"parcoords\": [{\"line\": {\"colorbar\": {\"outlinewidth\": 0, \"ticks\": \"\"}}, \"type\": \"parcoords\"}], \"pie\": [{\"automargin\": true, \"type\": \"pie\"}], \"scatter\": [{\"marker\": {\"colorbar\": {\"outlinewidth\": 0, \"ticks\": \"\"}}, \"type\": \"scatter\"}], \"scatter3d\": [{\"line\": {\"colorbar\": {\"outlinewidth\": 0, \"ticks\": \"\"}}, \"marker\": {\"colorbar\": {\"outlinewidth\": 0, \"ticks\": \"\"}}, \"type\": \"scatter3d\"}], \"scattercarpet\": [{\"marker\": {\"colorbar\": {\"outlinewidth\": 0, \"ticks\": \"\"}}, \"type\": \"scattercarpet\"}], \"scattergeo\": [{\"marker\": {\"colorbar\": {\"outlinewidth\": 0, \"ticks\": \"\"}}, \"type\": \"scattergeo\"}], \"scattergl\": [{\"marker\": {\"colorbar\": {\"outlinewidth\": 0, \"ticks\": \"\"}}, \"type\": \"scattergl\"}], \"scattermapbox\": [{\"marker\": {\"colorbar\": {\"outlinewidth\": 0, \"ticks\": \"\"}}, \"type\": \"scattermapbox\"}], \"scatterpolar\": [{\"marker\": {\"colorbar\": {\"outlinewidth\": 0, \"ticks\": \"\"}}, \"type\": \"scatterpolar\"}], \"scatterpolargl\": [{\"marker\": {\"colorbar\": {\"outlinewidth\": 0, \"ticks\": \"\"}}, \"type\": \"scatterpolargl\"}], \"scatterternary\": [{\"marker\": {\"colorbar\": {\"outlinewidth\": 0, \"ticks\": \"\"}}, \"type\": \"scatterternary\"}], \"surface\": [{\"colorbar\": {\"outlinewidth\": 0, \"ticks\": \"\"}, \"colorscale\": [[0.0, \"#0d0887\"], [0.1111111111111111, \"#46039f\"], [0.2222222222222222, \"#7201a8\"], [0.3333333333333333, \"#9c179e\"], [0.4444444444444444, \"#bd3786\"], [0.5555555555555556, \"#d8576b\"], [0.6666666666666666, \"#ed7953\"], [0.7777777777777778, \"#fb9f3a\"], [0.8888888888888888, \"#fdca26\"], [1.0, \"#f0f921\"]], \"type\": \"surface\"}], \"table\": [{\"cells\": {\"fill\": {\"color\": \"#EBF0F8\"}, \"line\": {\"color\": \"white\"}}, \"header\": {\"fill\": {\"color\": \"#C8D4E3\"}, \"line\": {\"color\": \"white\"}}, \"type\": \"table\"}]}, \"layout\": {\"annotationdefaults\": {\"arrowcolor\": \"#2a3f5f\", \"arrowhead\": 0, \"arrowwidth\": 1}, \"coloraxis\": {\"colorbar\": {\"outlinewidth\": 0, \"ticks\": \"\"}}, \"colorscale\": {\"diverging\": [[0, \"#8e0152\"], [0.1, \"#c51b7d\"], [0.2, \"#de77ae\"], [0.3, \"#f1b6da\"], [0.4, \"#fde0ef\"], [0.5, \"#f7f7f7\"], [0.6, \"#e6f5d0\"], [0.7, \"#b8e186\"], [0.8, \"#7fbc41\"], [0.9, \"#4d9221\"], [1, \"#276419\"]], \"sequential\": [[0.0, \"#0d0887\"], [0.1111111111111111, \"#46039f\"], [0.2222222222222222, \"#7201a8\"], [0.3333333333333333, \"#9c179e\"], [0.4444444444444444, \"#bd3786\"], [0.5555555555555556, \"#d8576b\"], [0.6666666666666666, \"#ed7953\"], [0.7777777777777778, \"#fb9f3a\"], [0.8888888888888888, \"#fdca26\"], [1.0, \"#f0f921\"]], \"sequentialminus\": [[0.0, \"#0d0887\"], [0.1111111111111111, \"#46039f\"], [0.2222222222222222, \"#7201a8\"], [0.3333333333333333, \"#9c179e\"], [0.4444444444444444, \"#bd3786\"], [0.5555555555555556, \"#d8576b\"], [0.6666666666666666, \"#ed7953\"], [0.7777777777777778, \"#fb9f3a\"], [0.8888888888888888, \"#fdca26\"], [1.0, \"#f0f921\"]]}, \"colorway\": [\"#636efa\", \"#EF553B\", \"#00cc96\", \"#ab63fa\", \"#FFA15A\", \"#19d3f3\", \"#FF6692\", \"#B6E880\", \"#FF97FF\", \"#FECB52\"], \"font\": {\"color\": \"#2a3f5f\"}, \"geo\": {\"bgcolor\": \"white\", \"lakecolor\": \"white\", \"landcolor\": \"#E5ECF6\", \"showlakes\": true, \"showland\": true, \"subunitcolor\": \"white\"}, \"hoverlabel\": {\"align\": \"left\"}, \"hovermode\": \"closest\", \"mapbox\": {\"style\": \"light\"}, \"paper_bgcolor\": \"white\", \"plot_bgcolor\": \"#E5ECF6\", \"polar\": {\"angularaxis\": {\"gridcolor\": \"white\", \"linecolor\": \"white\", \"ticks\": \"\"}, \"bgcolor\": \"#E5ECF6\", \"radialaxis\": {\"gridcolor\": \"white\", \"linecolor\": \"white\", \"ticks\": \"\"}}, \"scene\": {\"xaxis\": {\"backgroundcolor\": \"#E5ECF6\", \"gridcolor\": \"white\", \"gridwidth\": 2, \"linecolor\": \"white\", \"showbackground\": true, \"ticks\": \"\", \"zerolinecolor\": \"white\"}, \"yaxis\": {\"backgroundcolor\": \"#E5ECF6\", \"gridcolor\": \"white\", \"gridwidth\": 2, \"linecolor\": \"white\", \"showbackground\": true, \"ticks\": \"\", \"zerolinecolor\": \"white\"}, \"zaxis\": {\"backgroundcolor\": \"#E5ECF6\", \"gridcolor\": \"white\", \"gridwidth\": 2, \"linecolor\": \"white\", \"showbackground\": true, \"ticks\": \"\", \"zerolinecolor\": \"white\"}}, \"shapedefaults\": {\"line\": {\"color\": \"#2a3f5f\"}}, \"ternary\": {\"aaxis\": {\"gridcolor\": \"white\", \"linecolor\": \"white\", \"ticks\": \"\"}, \"baxis\": {\"gridcolor\": \"white\", \"linecolor\": \"white\", \"ticks\": \"\"}, \"bgcolor\": \"#E5ECF6\", \"caxis\": {\"gridcolor\": \"white\", \"linecolor\": \"white\", \"ticks\": \"\"}}, \"title\": {\"x\": 0.05}, \"xaxis\": {\"automargin\": true, \"gridcolor\": \"white\", \"linecolor\": \"white\", \"ticks\": \"\", \"title\": {\"standoff\": 15}, \"zerolinecolor\": \"white\", \"zerolinewidth\": 2}, \"yaxis\": {\"automargin\": true, \"gridcolor\": \"white\", \"linecolor\": \"white\", \"ticks\": \"\", \"title\": {\"standoff\": 15}, \"zerolinecolor\": \"white\", \"zerolinewidth\": 2}}}},                        {\"responsive\": true}                    ).then(function(){\n",
       "                            \n",
       "var gd = document.getElementById('e7e518b8-9a17-41a3-94a8-eb2aa4f8fdf1');\n",
       "var x = new MutationObserver(function (mutations, observer) {{\n",
       "        var display = window.getComputedStyle(gd).display;\n",
       "        if (!display || display === 'none') {{\n",
       "            console.log([gd, 'removed!']);\n",
       "            Plotly.purge(gd);\n",
       "            observer.disconnect();\n",
       "        }}\n",
       "}});\n",
       "\n",
       "// Listen for the removal of the full notebook cells\n",
       "var notebookContainer = gd.closest('#notebook-container');\n",
       "if (notebookContainer) {{\n",
       "    x.observe(notebookContainer, {childList: true});\n",
       "}}\n",
       "\n",
       "// Listen for the clearing of the current output cell\n",
       "var outputEl = gd.closest('.output');\n",
       "if (outputEl) {{\n",
       "    x.observe(outputEl, {childList: true});\n",
       "}}\n",
       "\n",
       "                        })                };                });            </script>        </div>"
      ]
     },
     "metadata": {},
     "output_type": "display_data"
    }
   ],
   "source": [
    "# create a parallel coordination plot over hyperparamaters\n",
    "# add path to models and change metric to what ever metric you have chosen to use/want to use\n",
    "parallel_coordinates(model_dump, metric=\"f1_score\")"
   ]
  },
  {
   "cell_type": "code",
   "execution_count": 25,
   "metadata": {},
   "outputs": [],
   "source": [
    "# Based on the Parallel Coordination plot define 3 new hyperparamaters set thay you \n",
    "# think are worth testing\n",
    "set_hyperparamaters_2 = [\n",
    "                         {\n",
    "                           \"learning_rate\": 0.0001,\n",
    "                           \"number_layers\": 20,\n",
    "                           \"optimizer\": \"adam\",\n",
    "                             \"hidden_size\": 4,\n",
    "                             \"batch_size\": 32, \n",
    "                             \"epochs\": 50,\n",
    "                             \"model_name\": \"model6\"\n",
    "                         },\n",
    "                        {\n",
    "                           \"learning_rate\": 0.0001,\n",
    "                           \"number_layers\": 10,\n",
    "                           \"optimizer\": \"adam\",\n",
    "                            \"hidden_size\": 5,\n",
    "                             \"batch_size\": 50, \n",
    "                             \"epochs\": 10,\n",
    "                             \"model_name\": \"model7\"\n",
    "                         },\n",
    "                        {\n",
    "                           \"learning_rate\": 0.00001,\n",
    "                           \"number_layers\": 1,\n",
    "                           \"optimizer\": \"adam\",\n",
    "                            \"hidden_size\": 2,\n",
    "                             \"batch_size\": 32, \n",
    "                             \"epochs\": 50,\n",
    "                             \"model_name\": \"model8\"\n",
    "                         },\n",
    "                        ]"
   ]
  },
  {
   "cell_type": "code",
   "execution_count": 26,
   "metadata": {},
   "outputs": [
    {
     "name": "stdout",
     "output_type": "stream",
     "text": [
      "trainx_shape: torch.Size([526, 102, 7])\n",
      "Total loss in epoch 0 is 29.40187644958496.\n",
      "model: model6 accuracy: 0.003137254901960784 precision: 9.84236831987697e-06 recall: 0.003137254901960784 f1_score: 0.006254886630179828\n",
      "Total loss in epoch 1 is 29.140512466430664.\n",
      "model: model6 accuracy: 0.003137254901960784 precision: 9.84236831987697e-06 recall: 0.003137254901960784 f1_score: 0.006254886630179828\n",
      "Total loss in epoch 2 is 28.884212493896484.\n",
      "model: model6 accuracy: 0.003137254901960784 precision: 9.84236831987697e-06 recall: 0.003137254901960784 f1_score: 0.006254886630179828\n",
      "Total loss in epoch 3 is 28.63602638244629.\n",
      "model: model6 accuracy: 0.003137254901960784 precision: 9.84236831987697e-06 recall: 0.003137254901960784 f1_score: 0.006254886630179828\n",
      "Total loss in epoch 4 is 28.38860511779785.\n",
      "model: model6 accuracy: 0.003137254901960784 precision: 9.84236831987697e-06 recall: 0.003137254901960784 f1_score: 0.006254886630179828\n",
      "Total loss in epoch 5 is 28.140594482421875.\n",
      "model: model6 accuracy: 0.003137254901960784 precision: 9.84236831987697e-06 recall: 0.003137254901960784 f1_score: 0.006254886630179828\n",
      "Total loss in epoch 6 is 27.89548110961914.\n",
      "model: model6 accuracy: 0.003137254901960784 precision: 9.84236831987697e-06 recall: 0.003137254901960784 f1_score: 0.006254886630179828\n",
      "Total loss in epoch 7 is 27.651813507080078.\n",
      "model: model6 accuracy: 0.003137254901960784 precision: 9.84236831987697e-06 recall: 0.003137254901960784 f1_score: 0.006254886630179828\n",
      "Total loss in epoch 8 is 27.408475875854492.\n",
      "model: model6 accuracy: 0.003137254901960784 precision: 9.84236831987697e-06 recall: 0.003137254901960784 f1_score: 0.006254886630179828\n",
      "Total loss in epoch 9 is 27.163524627685547.\n",
      "model: model6 accuracy: 0.003137254901960784 precision: 9.84236831987697e-06 recall: 0.003137254901960784 f1_score: 0.006254886630179828\n",
      "Total loss in epoch 10 is 26.913402557373047.\n",
      "model: model6 accuracy: 0.003137254901960784 precision: 9.84236831987697e-06 recall: 0.003137254901960784 f1_score: 0.006254886630179828\n",
      "Total loss in epoch 11 is 26.6607666015625.\n",
      "model: model6 accuracy: 0.003137254901960784 precision: 9.84236831987697e-06 recall: 0.003137254901960784 f1_score: 0.006254886630179828\n",
      "Total loss in epoch 12 is 26.401350021362305.\n",
      "model: model6 accuracy: 0.003137254901960784 precision: 9.84236831987697e-06 recall: 0.003137254901960784 f1_score: 0.006254886630179828\n",
      "Total loss in epoch 13 is 26.138097763061523.\n",
      "model: model6 accuracy: 0.003137254901960784 precision: 9.84236831987697e-06 recall: 0.003137254901960784 f1_score: 0.006254886630179828\n",
      "Total loss in epoch 14 is 25.868436813354492.\n",
      "model: model6 accuracy: 0.003137254901960784 precision: 9.84236831987697e-06 recall: 0.003137254901960784 f1_score: 0.006254886630179828\n",
      "Total loss in epoch 15 is 25.596572875976562.\n",
      "model: model6 accuracy: 0.003137254901960784 precision: 9.84236831987697e-06 recall: 0.003137254901960784 f1_score: 0.006254886630179828\n",
      "Total loss in epoch 16 is 25.311023712158203.\n",
      "model: model6 accuracy: 0.003137254901960784 precision: 9.84236831987697e-06 recall: 0.003137254901960784 f1_score: 0.006254886630179828\n",
      "Total loss in epoch 17 is 25.02140235900879.\n",
      "model: model6 accuracy: 0.003137254901960784 precision: 9.84236831987697e-06 recall: 0.003137254901960784 f1_score: 0.006254886630179828\n",
      "Total loss in epoch 18 is 24.725696563720703.\n",
      "model: model6 accuracy: 0.003137254901960784 precision: 9.84236831987697e-06 recall: 0.003137254901960784 f1_score: 0.006254886630179828\n",
      "Total loss in epoch 19 is 24.420133590698242.\n",
      "model: model6 accuracy: 0.003137254901960784 precision: 9.84236831987697e-06 recall: 0.003137254901960784 f1_score: 0.006254886630179828\n",
      "Total loss in epoch 20 is 24.10934066772461.\n",
      "model: model6 accuracy: 0.003137254901960784 precision: 9.84236831987697e-06 recall: 0.003137254901960784 f1_score: 0.006254886630179828\n",
      "Total loss in epoch 21 is 23.7965145111084.\n",
      "model: model6 accuracy: 0.003137254901960784 precision: 9.84236831987697e-06 recall: 0.003137254901960784 f1_score: 0.006254886630179828\n",
      "Total loss in epoch 22 is 23.47266387939453.\n",
      "model: model6 accuracy: 0.003137254901960784 precision: 9.84236831987697e-06 recall: 0.003137254901960784 f1_score: 0.006254886630179828\n",
      "Total loss in epoch 23 is 23.143312454223633.\n",
      "model: model6 accuracy: 0.003137254901960784 precision: 9.84236831987697e-06 recall: 0.003137254901960784 f1_score: 0.006254886630179828\n",
      "Total loss in epoch 24 is 22.809223175048828.\n",
      "model: model6 accuracy: 0.003137254901960784 precision: 9.84236831987697e-06 recall: 0.003137254901960784 f1_score: 0.006254886630179828\n",
      "Total loss in epoch 25 is 22.47482681274414.\n",
      "model: model6 accuracy: 0.003137254901960784 precision: 9.84236831987697e-06 recall: 0.003137254901960784 f1_score: 0.006254886630179828\n",
      "Total loss in epoch 26 is 22.132038116455078.\n",
      "model: model6 accuracy: 0.003137254901960784 precision: 9.84236831987697e-06 recall: 0.003137254901960784 f1_score: 0.006254886630179828\n",
      "Total loss in epoch 27 is 21.78301429748535.\n",
      "model: model6 accuracy: 0.003137254901960784 precision: 9.84236831987697e-06 recall: 0.003137254901960784 f1_score: 0.006254886630179828\n",
      "Total loss in epoch 28 is 21.43426513671875.\n",
      "model: model6 accuracy: 0.003137254901960784 precision: 9.84236831987697e-06 recall: 0.003137254901960784 f1_score: 0.006254886630179828\n",
      "Total loss in epoch 29 is 21.079601287841797.\n",
      "model: model6 accuracy: 0.9240522875816993 precision: 0.9556882988380537 recall: 0.9240522875816993 f1_score: 0.9088469117580361\n",
      "Total loss in epoch 30 is 20.728179931640625.\n",
      "model: model6 accuracy: 0.9403921568627451 precision: 0.9529570895024675 recall: 0.9403921568627451 f1_score: 0.9343855682977651\n",
      "Total loss in epoch 31 is 20.378311157226562.\n",
      "model: model6 accuracy: 0.9490196078431372 precision: 0.9521240861776809 recall: 0.9490196078431372 f1_score: 0.9476355787398807\n",
      "Total loss in epoch 32 is 20.0241641998291.\n",
      "model: model6 accuracy: 0.9490196078431372 precision: 0.9521240861776809 recall: 0.9490196078431372 f1_score: 0.9476355787398807\n",
      "Total loss in epoch 33 is 19.681127548217773.\n",
      "model: model6 accuracy: 0.9579738562091503 precision: 0.9515252723311548 recall: 0.9579738562091503 f1_score: 0.9613469284844123\n",
      "Total loss in epoch 34 is 19.338600158691406.\n",
      "model: model6 accuracy: 0.9579738562091503 precision: 0.9515252723311548 recall: 0.9579738562091503 f1_score: 0.9613469284844123\n",
      "Total loss in epoch 35 is 18.993885040283203.\n",
      "model: model6 accuracy: 0.9579738562091503 precision: 0.9515252723311548 recall: 0.9579738562091503 f1_score: 0.9613469284844123\n",
      "Total loss in epoch 36 is 18.67803192138672.\n",
      "model: model6 accuracy: 0.9579738562091503 precision: 0.9515252723311548 recall: 0.9579738562091503 f1_score: 0.9613469284844123\n",
      "Total loss in epoch 37 is 18.34256935119629.\n",
      "model: model6 accuracy: 0.9667320261437908 precision: 0.9507946935870056 recall: 0.9667320261437908 f1_score: 0.9748445174076614\n",
      "Total loss in epoch 38 is 18.026811599731445.\n",
      "model: model6 accuracy: 0.9667320261437908 precision: 0.9507946935870056 recall: 0.9667320261437908 f1_score: 0.9748445174076614\n",
      "Total loss in epoch 39 is 17.711414337158203.\n",
      "model: model6 accuracy: 0.9667320261437908 precision: 0.9507946935870056 recall: 0.9667320261437908 f1_score: 0.9748445174076614\n",
      "Total loss in epoch 40 is 17.42512321472168.\n",
      "model: model6 accuracy: 0.9667320261437908 precision: 0.9507946935870056 recall: 0.9667320261437908 f1_score: 0.9748445174076614\n",
      "Total loss in epoch 41 is 17.11749267578125.\n",
      "model: model6 accuracy: 0.9667320261437908 precision: 0.9507946935870056 recall: 0.9667320261437908 f1_score: 0.9748445174076614\n",
      "Total loss in epoch 42 is 16.83021354675293.\n",
      "model: model6 accuracy: 0.9667320261437908 precision: 0.9507946935870056 recall: 0.9667320261437908 f1_score: 0.9748445174076614\n",
      "Total loss in epoch 43 is 16.553991317749023.\n",
      "model: model6 accuracy: 0.9667320261437908 precision: 0.9507946935870056 recall: 0.9667320261437908 f1_score: 0.9748445174076614\n",
      "Total loss in epoch 44 is 16.291555404663086.\n",
      "model: model6 accuracy: 0.9667320261437908 precision: 0.9507946935870056 recall: 0.9667320261437908 f1_score: 0.9748445174076614\n",
      "Total loss in epoch 45 is 16.023433685302734.\n",
      "model: model6 accuracy: 0.9741830065359477 precision: 0.9490325302234183 recall: 0.9741830065359477 f1_score: 0.98692269491806\n"
     ]
    },
    {
     "name": "stdout",
     "output_type": "stream",
     "text": [
      "Total loss in epoch 46 is 15.768183708190918.\n",
      "model: model6 accuracy: 0.9741830065359477 precision: 0.9490325302234183 recall: 0.9741830065359477 f1_score: 0.98692269491806\n",
      "Total loss in epoch 47 is 15.527726173400879.\n",
      "model: model6 accuracy: 0.9741830065359477 precision: 0.9490325302234183 recall: 0.9741830065359477 f1_score: 0.98692269491806\n",
      "Total loss in epoch 48 is 15.284162521362305.\n",
      "model: model6 accuracy: 0.9741830065359477 precision: 0.9490325302234183 recall: 0.9741830065359477 f1_score: 0.98692269491806\n",
      "Total loss in epoch 49 is 15.061596870422363.\n",
      "model: model6 accuracy: 0.9741830065359477 precision: 0.9490325302234183 recall: 0.9741830065359477 f1_score: 0.98692269491806\n",
      "trainx_shape: torch.Size([526, 102, 7])\n",
      "Total loss in epoch 0 is 5.235123157501221.\n",
      "model: model7 accuracy: 0.9741830065359477 precision: 0.9490325302234183 recall: 0.9741830065359477 f1_score: 0.98692269491806\n",
      "Total loss in epoch 1 is 1.707378625869751.\n",
      "model: model7 accuracy: 0.9741830065359477 precision: 0.9490325302234183 recall: 0.9741830065359477 f1_score: 0.98692269491806\n",
      "Total loss in epoch 2 is 1.3303415775299072.\n",
      "model: model7 accuracy: 0.9741830065359477 precision: 0.9490325302234183 recall: 0.9741830065359477 f1_score: 0.98692269491806\n",
      "Total loss in epoch 3 is 1.2055598497390747.\n",
      "model: model7 accuracy: 0.9741830065359477 precision: 0.9490325302234183 recall: 0.9741830065359477 f1_score: 0.98692269491806\n",
      "Total loss in epoch 4 is 1.16826331615448.\n",
      "model: model7 accuracy: 0.9741830065359477 precision: 0.9490325302234183 recall: 0.9741830065359477 f1_score: 0.98692269491806\n",
      "Total loss in epoch 5 is 1.1291608810424805.\n",
      "model: model7 accuracy: 0.9741830065359477 precision: 0.9490325302234183 recall: 0.9741830065359477 f1_score: 0.98692269491806\n",
      "Total loss in epoch 6 is 1.1332757472991943.\n",
      "model: model7 accuracy: 0.9741830065359477 precision: 0.9490325302234183 recall: 0.9741830065359477 f1_score: 0.98692269491806\n",
      "Total loss in epoch 7 is 1.1212987899780273.\n",
      "model: model7 accuracy: 0.9741830065359477 precision: 0.9490325302234183 recall: 0.9741830065359477 f1_score: 0.98692269491806\n",
      "Total loss in epoch 8 is 1.110571265220642.\n",
      "model: model7 accuracy: 0.9741830065359477 precision: 0.9490325302234183 recall: 0.9741830065359477 f1_score: 0.98692269491806\n",
      "Total loss in epoch 9 is 1.0986487865447998.\n",
      "model: model7 accuracy: 0.9741830065359477 precision: 0.9490325302234183 recall: 0.9741830065359477 f1_score: 0.98692269491806\n",
      "trainx_shape: torch.Size([526, 102, 7])\n",
      "Total loss in epoch 0 is 36.294830322265625.\n",
      "model: model8 accuracy: 0.013790849673202614 precision: 0.00019018753470887267 recall: 0.013790849673202614 f1_score: 0.027206498613886916\n",
      "Total loss in epoch 1 is 36.285823822021484.\n",
      "model: model8 accuracy: 0.013790849673202614 precision: 0.00019018753470887267 recall: 0.013790849673202614 f1_score: 0.027206498613886916\n",
      "Total loss in epoch 2 is 36.266258239746094.\n",
      "model: model8 accuracy: 0.013790849673202614 precision: 0.00019018753470887267 recall: 0.013790849673202614 f1_score: 0.027206498613886916\n",
      "Total loss in epoch 3 is 36.25221252441406.\n",
      "model: model8 accuracy: 0.013790849673202614 precision: 0.00019018753470887267 recall: 0.013790849673202614 f1_score: 0.027206498613886916\n",
      "Total loss in epoch 4 is 36.23876190185547.\n",
      "model: model8 accuracy: 0.013790849673202614 precision: 0.00019018753470887267 recall: 0.013790849673202614 f1_score: 0.027206498613886916\n",
      "Total loss in epoch 5 is 36.22392654418945.\n",
      "model: model8 accuracy: 0.013790849673202614 precision: 0.00019018753470887267 recall: 0.013790849673202614 f1_score: 0.027206498613886916\n",
      "Total loss in epoch 6 is 36.211063385009766.\n",
      "model: model8 accuracy: 0.013790849673202614 precision: 0.00019018753470887267 recall: 0.013790849673202614 f1_score: 0.027206498613886916\n",
      "Total loss in epoch 7 is 36.19060134887695.\n",
      "model: model8 accuracy: 0.013790849673202614 precision: 0.00019018753470887267 recall: 0.013790849673202614 f1_score: 0.027206498613886916\n",
      "Total loss in epoch 8 is 36.180030822753906.\n",
      "model: model8 accuracy: 0.013790849673202614 precision: 0.00019018753470887267 recall: 0.013790849673202614 f1_score: 0.027206498613886916\n",
      "Total loss in epoch 9 is 36.16655731201172.\n",
      "model: model8 accuracy: 0.013790849673202614 precision: 0.00019018753470887267 recall: 0.013790849673202614 f1_score: 0.027206498613886916\n",
      "Total loss in epoch 10 is 36.14384460449219.\n",
      "model: model8 accuracy: 0.013790849673202614 precision: 0.00019018753470887267 recall: 0.013790849673202614 f1_score: 0.027206498613886916\n",
      "Total loss in epoch 11 is 36.127803802490234.\n",
      "model: model8 accuracy: 0.013790849673202614 precision: 0.00019018753470887267 recall: 0.013790849673202614 f1_score: 0.027206498613886916\n",
      "Total loss in epoch 12 is 36.11701583862305.\n",
      "model: model8 accuracy: 0.013790849673202614 precision: 0.00019018753470887267 recall: 0.013790849673202614 f1_score: 0.027206498613886916\n",
      "Total loss in epoch 13 is 36.102935791015625.\n",
      "model: model8 accuracy: 0.013790849673202614 precision: 0.00019018753470887267 recall: 0.013790849673202614 f1_score: 0.027206498613886916\n",
      "Total loss in epoch 14 is 36.08270263671875.\n",
      "model: model8 accuracy: 0.013790849673202614 precision: 0.00019018753470887267 recall: 0.013790849673202614 f1_score: 0.027206498613886916\n",
      "Total loss in epoch 15 is 36.079463958740234.\n",
      "model: model8 accuracy: 0.013790849673202614 precision: 0.00019018753470887267 recall: 0.013790849673202614 f1_score: 0.027206498613886916\n",
      "Total loss in epoch 16 is 36.06227111816406.\n",
      "model: model8 accuracy: 0.013790849673202614 precision: 0.00019018753470887267 recall: 0.013790849673202614 f1_score: 0.027206498613886916\n",
      "Total loss in epoch 17 is 36.05160140991211.\n",
      "model: model8 accuracy: 0.013790849673202614 precision: 0.00019018753470887267 recall: 0.013790849673202614 f1_score: 0.027206498613886916\n",
      "Total loss in epoch 18 is 36.03455352783203.\n",
      "model: model8 accuracy: 0.013790849673202614 precision: 0.00019018753470887267 recall: 0.013790849673202614 f1_score: 0.027206498613886916\n",
      "Total loss in epoch 19 is 36.020973205566406.\n",
      "model: model8 accuracy: 0.013790849673202614 precision: 0.00019018753470887267 recall: 0.013790849673202614 f1_score: 0.027206498613886916\n",
      "Total loss in epoch 20 is 36.009464263916016.\n",
      "model: model8 accuracy: 0.013790849673202614 precision: 0.00019018753470887267 recall: 0.013790849673202614 f1_score: 0.027206498613886916\n",
      "Total loss in epoch 21 is 35.99379348754883.\n",
      "model: model8 accuracy: 0.013790849673202614 precision: 0.00019018753470887267 recall: 0.013790849673202614 f1_score: 0.027206498613886916\n",
      "Total loss in epoch 22 is 35.979671478271484.\n",
      "model: model8 accuracy: 0.013790849673202614 precision: 0.00019018753470887267 recall: 0.013790849673202614 f1_score: 0.027206498613886916\n",
      "Total loss in epoch 23 is 35.95703125.\n",
      "model: model8 accuracy: 0.013790849673202614 precision: 0.00019018753470887267 recall: 0.013790849673202614 f1_score: 0.027206498613886916\n",
      "Total loss in epoch 24 is 35.94676971435547.\n",
      "model: model8 accuracy: 0.013790849673202614 precision: 0.00019018753470887267 recall: 0.013790849673202614 f1_score: 0.027206498613886916\n",
      "Total loss in epoch 25 is 35.93918228149414.\n",
      "model: model8 accuracy: 0.013790849673202614 precision: 0.00019018753470887267 recall: 0.013790849673202614 f1_score: 0.027206498613886916\n",
      "Total loss in epoch 26 is 35.9298095703125.\n",
      "model: model8 accuracy: 0.013790849673202614 precision: 0.00019018753470887267 recall: 0.013790849673202614 f1_score: 0.027206498613886916\n",
      "Total loss in epoch 27 is 35.911197662353516.\n",
      "model: model8 accuracy: 0.013790849673202614 precision: 0.00019018753470887267 recall: 0.013790849673202614 f1_score: 0.027206498613886916\n",
      "Total loss in epoch 28 is 35.89079284667969.\n",
      "model: model8 accuracy: 0.013790849673202614 precision: 0.00019018753470887267 recall: 0.013790849673202614 f1_score: 0.027206498613886916\n",
      "Total loss in epoch 29 is 35.87776565551758.\n",
      "model: model8 accuracy: 0.013790849673202614 precision: 0.00019018753470887267 recall: 0.013790849673202614 f1_score: 0.027206498613886916\n",
      "Total loss in epoch 30 is 35.862022399902344.\n",
      "model: model8 accuracy: 0.013790849673202614 precision: 0.00019018753470887267 recall: 0.013790849673202614 f1_score: 0.027206498613886916\n",
      "Total loss in epoch 31 is 35.84850311279297.\n"
     ]
    },
    {
     "name": "stdout",
     "output_type": "stream",
     "text": [
      "model: model8 accuracy: 0.013790849673202614 precision: 0.00019018753470887267 recall: 0.013790849673202614 f1_score: 0.027206498613886916\n",
      "Total loss in epoch 32 is 35.824440002441406.\n",
      "model: model8 accuracy: 0.013790849673202614 precision: 0.00019018753470887267 recall: 0.013790849673202614 f1_score: 0.027206498613886916\n",
      "Total loss in epoch 33 is 35.816307067871094.\n",
      "model: model8 accuracy: 0.013790849673202614 precision: 0.00019018753470887267 recall: 0.013790849673202614 f1_score: 0.027206498613886916\n",
      "Total loss in epoch 34 is 35.803558349609375.\n",
      "model: model8 accuracy: 0.013790849673202614 precision: 0.00019018753470887267 recall: 0.013790849673202614 f1_score: 0.027206498613886916\n",
      "Total loss in epoch 35 is 35.787437438964844.\n",
      "model: model8 accuracy: 0.013790849673202614 precision: 0.00019018753470887267 recall: 0.013790849673202614 f1_score: 0.027206498613886916\n",
      "Total loss in epoch 36 is 35.779998779296875.\n",
      "model: model8 accuracy: 0.013790849673202614 precision: 0.00019018753470887267 recall: 0.013790849673202614 f1_score: 0.027206498613886916\n",
      "Total loss in epoch 37 is 35.76449966430664.\n",
      "model: model8 accuracy: 0.013790849673202614 precision: 0.00019018753470887267 recall: 0.013790849673202614 f1_score: 0.027206498613886916\n",
      "Total loss in epoch 38 is 35.73979949951172.\n",
      "model: model8 accuracy: 0.013790849673202614 precision: 0.00019018753470887267 recall: 0.013790849673202614 f1_score: 0.027206498613886916\n",
      "Total loss in epoch 39 is 35.736515045166016.\n",
      "model: model8 accuracy: 0.013790849673202614 precision: 0.00019018753470887267 recall: 0.013790849673202614 f1_score: 0.027206498613886916\n",
      "Total loss in epoch 40 is 35.7164421081543.\n",
      "model: model8 accuracy: 0.013790849673202614 precision: 0.00019018753470887267 recall: 0.013790849673202614 f1_score: 0.027206498613886916\n",
      "Total loss in epoch 41 is 35.70869064331055.\n",
      "model: model8 accuracy: 0.013790849673202614 precision: 0.00019018753470887267 recall: 0.013790849673202614 f1_score: 0.027206498613886916\n",
      "Total loss in epoch 42 is 35.68855667114258.\n",
      "model: model8 accuracy: 0.013790849673202614 precision: 0.00019018753470887267 recall: 0.013790849673202614 f1_score: 0.027206498613886916\n",
      "Total loss in epoch 43 is 35.68169021606445.\n",
      "model: model8 accuracy: 0.013790849673202614 precision: 0.00019018753470887267 recall: 0.013790849673202614 f1_score: 0.027206498613886916\n",
      "Total loss in epoch 44 is 35.65302658081055.\n",
      "model: model8 accuracy: 0.013790849673202614 precision: 0.00019018753470887267 recall: 0.013790849673202614 f1_score: 0.027206498613886916\n",
      "Total loss in epoch 45 is 35.64278793334961.\n",
      "model: model8 accuracy: 0.013790849673202614 precision: 0.00019018753470887267 recall: 0.013790849673202614 f1_score: 0.027206498613886916\n",
      "Total loss in epoch 46 is 35.63120651245117.\n",
      "model: model8 accuracy: 0.013790849673202614 precision: 0.00019018753470887267 recall: 0.013790849673202614 f1_score: 0.027206498613886916\n",
      "Total loss in epoch 47 is 35.61540985107422.\n",
      "model: model8 accuracy: 0.013790849673202614 precision: 0.00019018753470887267 recall: 0.013790849673202614 f1_score: 0.027206498613886916\n",
      "Total loss in epoch 48 is 35.595069885253906.\n",
      "model: model8 accuracy: 0.013790849673202614 precision: 0.00019018753470887267 recall: 0.013790849673202614 f1_score: 0.027206498613886916\n",
      "Total loss in epoch 49 is 35.593971252441406.\n",
      "model: model8 accuracy: 0.013790849673202614 precision: 0.00019018753470887267 recall: 0.013790849673202614 f1_score: 0.027206498613886916\n"
     ]
    }
   ],
   "source": [
    "# train models for the new hyperparamaters\n",
    "for hp in set_hyperparamaters_2:\n",
    "    trainer.train(train_X, train_y, val_X, val_y, ClassifierModel, hp)"
   ]
  },
  {
   "cell_type": "code",
   "execution_count": 27,
   "metadata": {},
   "outputs": [
    {
     "name": "stdout",
     "output_type": "stream",
     "text": [
      "models found: ['aa2_models/model1.pt', 'aa2_models/model2.pt', 'aa2_models/model3.pt', 'aa2_models/model4.pt', 'aa2_models/model5.pt', 'aa2_models/model6.pt', 'aa2_models/model7.pt', 'aa2_models/model8.pt']\n"
     ]
    },
    {
     "data": {
      "application/vnd.plotly.v1+json": {
       "config": {
        "plotlyServerURL": "https://plot.ly"
       },
       "data": [
        {
         "dimensions": [
          {
           "label": "model_name",
           "range": [
            0,
            7
           ],
           "ticktext": [
            "model1",
            "model2",
            "model3",
            "model4",
            "model5",
            "model6",
            "model7",
            "model8"
           ],
           "tickvals": [
            0,
            1,
            2,
            3,
            4,
            5,
            6,
            7
           ],
           "values": [
            0,
            1,
            2,
            3,
            4,
            5,
            6,
            7
           ]
          },
          {
           "label": "learning_rate",
           "range": [
            1e-05,
            1
           ],
           "values": [
            0.001,
            0.01,
            0.1,
            0.001,
            0.0001,
            0.0001,
            1,
            1e-05
           ]
          },
          {
           "label": "number_layers",
           "range": [
            1,
            20
           ],
           "values": [
            5,
            5,
            5,
            10,
            10,
            20,
            1,
            1
           ]
          },
          {
           "label": "optimizer",
           "range": [
            0,
            1
           ],
           "ticktext": [
            "SGD",
            "adam"
           ],
           "tickvals": [
            0,
            1
           ],
           "values": [
            1,
            0,
            1,
            1,
            1,
            1,
            1,
            1
           ]
          },
          {
           "label": "hidden_size",
           "range": [
            1,
            50
           ],
           "values": [
            4,
            4,
            4,
            50,
            50,
            4,
            1,
            2
           ]
          },
          {
           "label": "batch_size",
           "range": [
            32,
            64
           ],
           "values": [
            32,
            32,
            32,
            32,
            64,
            32,
            50,
            32
           ]
          },
          {
           "label": "epochs",
           "range": [
            3,
            100
           ],
           "values": [
            50,
            20,
            20,
            3,
            100,
            50,
            10,
            50
           ]
          },
          {
           "label": "accuracy",
           "range": [
            0.013790849673202614,
            0.9741830065359477
           ],
           "values": [
            0.9741830065359477,
            0.9741830065359477,
            0.9741830065359477,
            0.9741830065359477,
            0.9741830065359477,
            0.9741830065359477,
            0.9741830065359477,
            0.013790849673202614
           ]
          }
         ],
         "line": {
          "cmax": 0.9741830065359477,
          "cmin": 0.013790849673202614,
          "color": [
           0.9741830065359477,
           0.9741830065359477,
           0.9741830065359477,
           0.9741830065359477,
           0.9741830065359477,
           0.9741830065359477,
           0.9741830065359477,
           0.013790849673202614
          ],
          "colorscale": [
           [
            0,
            "rgb(0,0,0)"
           ],
           [
            0.2,
            "rgb(30,0,100)"
           ],
           [
            0.4,
            "rgb(120,0,100)"
           ],
           [
            0.6,
            "rgb(160,90,0)"
           ],
           [
            0.8,
            "rgb(230,200,0)"
           ],
           [
            1,
            "rgb(255,250,220)"
           ]
          ],
          "showscale": true
         },
         "type": "parcoords"
        }
       ],
       "layout": {
        "margin": {
         "b": 20,
         "l": 120,
         "r": 30,
         "t": 40
        },
        "template": {
         "data": {
          "bar": [
           {
            "error_x": {
             "color": "#2a3f5f"
            },
            "error_y": {
             "color": "#2a3f5f"
            },
            "marker": {
             "line": {
              "color": "#E5ECF6",
              "width": 0.5
             }
            },
            "type": "bar"
           }
          ],
          "barpolar": [
           {
            "marker": {
             "line": {
              "color": "#E5ECF6",
              "width": 0.5
             }
            },
            "type": "barpolar"
           }
          ],
          "carpet": [
           {
            "aaxis": {
             "endlinecolor": "#2a3f5f",
             "gridcolor": "white",
             "linecolor": "white",
             "minorgridcolor": "white",
             "startlinecolor": "#2a3f5f"
            },
            "baxis": {
             "endlinecolor": "#2a3f5f",
             "gridcolor": "white",
             "linecolor": "white",
             "minorgridcolor": "white",
             "startlinecolor": "#2a3f5f"
            },
            "type": "carpet"
           }
          ],
          "choropleth": [
           {
            "colorbar": {
             "outlinewidth": 0,
             "ticks": ""
            },
            "type": "choropleth"
           }
          ],
          "contour": [
           {
            "colorbar": {
             "outlinewidth": 0,
             "ticks": ""
            },
            "colorscale": [
             [
              0,
              "#0d0887"
             ],
             [
              0.1111111111111111,
              "#46039f"
             ],
             [
              0.2222222222222222,
              "#7201a8"
             ],
             [
              0.3333333333333333,
              "#9c179e"
             ],
             [
              0.4444444444444444,
              "#bd3786"
             ],
             [
              0.5555555555555556,
              "#d8576b"
             ],
             [
              0.6666666666666666,
              "#ed7953"
             ],
             [
              0.7777777777777778,
              "#fb9f3a"
             ],
             [
              0.8888888888888888,
              "#fdca26"
             ],
             [
              1,
              "#f0f921"
             ]
            ],
            "type": "contour"
           }
          ],
          "contourcarpet": [
           {
            "colorbar": {
             "outlinewidth": 0,
             "ticks": ""
            },
            "type": "contourcarpet"
           }
          ],
          "heatmap": [
           {
            "colorbar": {
             "outlinewidth": 0,
             "ticks": ""
            },
            "colorscale": [
             [
              0,
              "#0d0887"
             ],
             [
              0.1111111111111111,
              "#46039f"
             ],
             [
              0.2222222222222222,
              "#7201a8"
             ],
             [
              0.3333333333333333,
              "#9c179e"
             ],
             [
              0.4444444444444444,
              "#bd3786"
             ],
             [
              0.5555555555555556,
              "#d8576b"
             ],
             [
              0.6666666666666666,
              "#ed7953"
             ],
             [
              0.7777777777777778,
              "#fb9f3a"
             ],
             [
              0.8888888888888888,
              "#fdca26"
             ],
             [
              1,
              "#f0f921"
             ]
            ],
            "type": "heatmap"
           }
          ],
          "heatmapgl": [
           {
            "colorbar": {
             "outlinewidth": 0,
             "ticks": ""
            },
            "colorscale": [
             [
              0,
              "#0d0887"
             ],
             [
              0.1111111111111111,
              "#46039f"
             ],
             [
              0.2222222222222222,
              "#7201a8"
             ],
             [
              0.3333333333333333,
              "#9c179e"
             ],
             [
              0.4444444444444444,
              "#bd3786"
             ],
             [
              0.5555555555555556,
              "#d8576b"
             ],
             [
              0.6666666666666666,
              "#ed7953"
             ],
             [
              0.7777777777777778,
              "#fb9f3a"
             ],
             [
              0.8888888888888888,
              "#fdca26"
             ],
             [
              1,
              "#f0f921"
             ]
            ],
            "type": "heatmapgl"
           }
          ],
          "histogram": [
           {
            "marker": {
             "colorbar": {
              "outlinewidth": 0,
              "ticks": ""
             }
            },
            "type": "histogram"
           }
          ],
          "histogram2d": [
           {
            "colorbar": {
             "outlinewidth": 0,
             "ticks": ""
            },
            "colorscale": [
             [
              0,
              "#0d0887"
             ],
             [
              0.1111111111111111,
              "#46039f"
             ],
             [
              0.2222222222222222,
              "#7201a8"
             ],
             [
              0.3333333333333333,
              "#9c179e"
             ],
             [
              0.4444444444444444,
              "#bd3786"
             ],
             [
              0.5555555555555556,
              "#d8576b"
             ],
             [
              0.6666666666666666,
              "#ed7953"
             ],
             [
              0.7777777777777778,
              "#fb9f3a"
             ],
             [
              0.8888888888888888,
              "#fdca26"
             ],
             [
              1,
              "#f0f921"
             ]
            ],
            "type": "histogram2d"
           }
          ],
          "histogram2dcontour": [
           {
            "colorbar": {
             "outlinewidth": 0,
             "ticks": ""
            },
            "colorscale": [
             [
              0,
              "#0d0887"
             ],
             [
              0.1111111111111111,
              "#46039f"
             ],
             [
              0.2222222222222222,
              "#7201a8"
             ],
             [
              0.3333333333333333,
              "#9c179e"
             ],
             [
              0.4444444444444444,
              "#bd3786"
             ],
             [
              0.5555555555555556,
              "#d8576b"
             ],
             [
              0.6666666666666666,
              "#ed7953"
             ],
             [
              0.7777777777777778,
              "#fb9f3a"
             ],
             [
              0.8888888888888888,
              "#fdca26"
             ],
             [
              1,
              "#f0f921"
             ]
            ],
            "type": "histogram2dcontour"
           }
          ],
          "mesh3d": [
           {
            "colorbar": {
             "outlinewidth": 0,
             "ticks": ""
            },
            "type": "mesh3d"
           }
          ],
          "parcoords": [
           {
            "line": {
             "colorbar": {
              "outlinewidth": 0,
              "ticks": ""
             }
            },
            "type": "parcoords"
           }
          ],
          "pie": [
           {
            "automargin": true,
            "type": "pie"
           }
          ],
          "scatter": [
           {
            "marker": {
             "colorbar": {
              "outlinewidth": 0,
              "ticks": ""
             }
            },
            "type": "scatter"
           }
          ],
          "scatter3d": [
           {
            "line": {
             "colorbar": {
              "outlinewidth": 0,
              "ticks": ""
             }
            },
            "marker": {
             "colorbar": {
              "outlinewidth": 0,
              "ticks": ""
             }
            },
            "type": "scatter3d"
           }
          ],
          "scattercarpet": [
           {
            "marker": {
             "colorbar": {
              "outlinewidth": 0,
              "ticks": ""
             }
            },
            "type": "scattercarpet"
           }
          ],
          "scattergeo": [
           {
            "marker": {
             "colorbar": {
              "outlinewidth": 0,
              "ticks": ""
             }
            },
            "type": "scattergeo"
           }
          ],
          "scattergl": [
           {
            "marker": {
             "colorbar": {
              "outlinewidth": 0,
              "ticks": ""
             }
            },
            "type": "scattergl"
           }
          ],
          "scattermapbox": [
           {
            "marker": {
             "colorbar": {
              "outlinewidth": 0,
              "ticks": ""
             }
            },
            "type": "scattermapbox"
           }
          ],
          "scatterpolar": [
           {
            "marker": {
             "colorbar": {
              "outlinewidth": 0,
              "ticks": ""
             }
            },
            "type": "scatterpolar"
           }
          ],
          "scatterpolargl": [
           {
            "marker": {
             "colorbar": {
              "outlinewidth": 0,
              "ticks": ""
             }
            },
            "type": "scatterpolargl"
           }
          ],
          "scatterternary": [
           {
            "marker": {
             "colorbar": {
              "outlinewidth": 0,
              "ticks": ""
             }
            },
            "type": "scatterternary"
           }
          ],
          "surface": [
           {
            "colorbar": {
             "outlinewidth": 0,
             "ticks": ""
            },
            "colorscale": [
             [
              0,
              "#0d0887"
             ],
             [
              0.1111111111111111,
              "#46039f"
             ],
             [
              0.2222222222222222,
              "#7201a8"
             ],
             [
              0.3333333333333333,
              "#9c179e"
             ],
             [
              0.4444444444444444,
              "#bd3786"
             ],
             [
              0.5555555555555556,
              "#d8576b"
             ],
             [
              0.6666666666666666,
              "#ed7953"
             ],
             [
              0.7777777777777778,
              "#fb9f3a"
             ],
             [
              0.8888888888888888,
              "#fdca26"
             ],
             [
              1,
              "#f0f921"
             ]
            ],
            "type": "surface"
           }
          ],
          "table": [
           {
            "cells": {
             "fill": {
              "color": "#EBF0F8"
             },
             "line": {
              "color": "white"
             }
            },
            "header": {
             "fill": {
              "color": "#C8D4E3"
             },
             "line": {
              "color": "white"
             }
            },
            "type": "table"
           }
          ]
         },
         "layout": {
          "annotationdefaults": {
           "arrowcolor": "#2a3f5f",
           "arrowhead": 0,
           "arrowwidth": 1
          },
          "coloraxis": {
           "colorbar": {
            "outlinewidth": 0,
            "ticks": ""
           }
          },
          "colorscale": {
           "diverging": [
            [
             0,
             "#8e0152"
            ],
            [
             0.1,
             "#c51b7d"
            ],
            [
             0.2,
             "#de77ae"
            ],
            [
             0.3,
             "#f1b6da"
            ],
            [
             0.4,
             "#fde0ef"
            ],
            [
             0.5,
             "#f7f7f7"
            ],
            [
             0.6,
             "#e6f5d0"
            ],
            [
             0.7,
             "#b8e186"
            ],
            [
             0.8,
             "#7fbc41"
            ],
            [
             0.9,
             "#4d9221"
            ],
            [
             1,
             "#276419"
            ]
           ],
           "sequential": [
            [
             0,
             "#0d0887"
            ],
            [
             0.1111111111111111,
             "#46039f"
            ],
            [
             0.2222222222222222,
             "#7201a8"
            ],
            [
             0.3333333333333333,
             "#9c179e"
            ],
            [
             0.4444444444444444,
             "#bd3786"
            ],
            [
             0.5555555555555556,
             "#d8576b"
            ],
            [
             0.6666666666666666,
             "#ed7953"
            ],
            [
             0.7777777777777778,
             "#fb9f3a"
            ],
            [
             0.8888888888888888,
             "#fdca26"
            ],
            [
             1,
             "#f0f921"
            ]
           ],
           "sequentialminus": [
            [
             0,
             "#0d0887"
            ],
            [
             0.1111111111111111,
             "#46039f"
            ],
            [
             0.2222222222222222,
             "#7201a8"
            ],
            [
             0.3333333333333333,
             "#9c179e"
            ],
            [
             0.4444444444444444,
             "#bd3786"
            ],
            [
             0.5555555555555556,
             "#d8576b"
            ],
            [
             0.6666666666666666,
             "#ed7953"
            ],
            [
             0.7777777777777778,
             "#fb9f3a"
            ],
            [
             0.8888888888888888,
             "#fdca26"
            ],
            [
             1,
             "#f0f921"
            ]
           ]
          },
          "colorway": [
           "#636efa",
           "#EF553B",
           "#00cc96",
           "#ab63fa",
           "#FFA15A",
           "#19d3f3",
           "#FF6692",
           "#B6E880",
           "#FF97FF",
           "#FECB52"
          ],
          "font": {
           "color": "#2a3f5f"
          },
          "geo": {
           "bgcolor": "white",
           "lakecolor": "white",
           "landcolor": "#E5ECF6",
           "showlakes": true,
           "showland": true,
           "subunitcolor": "white"
          },
          "hoverlabel": {
           "align": "left"
          },
          "hovermode": "closest",
          "mapbox": {
           "style": "light"
          },
          "paper_bgcolor": "white",
          "plot_bgcolor": "#E5ECF6",
          "polar": {
           "angularaxis": {
            "gridcolor": "white",
            "linecolor": "white",
            "ticks": ""
           },
           "bgcolor": "#E5ECF6",
           "radialaxis": {
            "gridcolor": "white",
            "linecolor": "white",
            "ticks": ""
           }
          },
          "scene": {
           "xaxis": {
            "backgroundcolor": "#E5ECF6",
            "gridcolor": "white",
            "gridwidth": 2,
            "linecolor": "white",
            "showbackground": true,
            "ticks": "",
            "zerolinecolor": "white"
           },
           "yaxis": {
            "backgroundcolor": "#E5ECF6",
            "gridcolor": "white",
            "gridwidth": 2,
            "linecolor": "white",
            "showbackground": true,
            "ticks": "",
            "zerolinecolor": "white"
           },
           "zaxis": {
            "backgroundcolor": "#E5ECF6",
            "gridcolor": "white",
            "gridwidth": 2,
            "linecolor": "white",
            "showbackground": true,
            "ticks": "",
            "zerolinecolor": "white"
           }
          },
          "shapedefaults": {
           "line": {
            "color": "#2a3f5f"
           }
          },
          "ternary": {
           "aaxis": {
            "gridcolor": "white",
            "linecolor": "white",
            "ticks": ""
           },
           "baxis": {
            "gridcolor": "white",
            "linecolor": "white",
            "ticks": ""
           },
           "bgcolor": "#E5ECF6",
           "caxis": {
            "gridcolor": "white",
            "linecolor": "white",
            "ticks": ""
           }
          },
          "title": {
           "x": 0.05
          },
          "xaxis": {
           "automargin": true,
           "gridcolor": "white",
           "linecolor": "white",
           "ticks": "",
           "title": {
            "standoff": 15
           },
           "zerolinecolor": "white",
           "zerolinewidth": 2
          },
          "yaxis": {
           "automargin": true,
           "gridcolor": "white",
           "linecolor": "white",
           "ticks": "",
           "title": {
            "standoff": 15
           },
           "zerolinecolor": "white",
           "zerolinewidth": 2
          }
         }
        }
       }
      },
      "text/html": [
       "<div>                            <div id=\"f349915c-c071-42ac-b92b-a8fdbdd99ddd\" class=\"plotly-graph-div\" style=\"height:525px; width:100%;\"></div>            <script type=\"text/javascript\">                require([\"plotly\"], function(Plotly) {                    window.PLOTLYENV=window.PLOTLYENV || {};                                    if (document.getElementById(\"f349915c-c071-42ac-b92b-a8fdbdd99ddd\")) {                    Plotly.newPlot(                        \"f349915c-c071-42ac-b92b-a8fdbdd99ddd\",                        [{\"dimensions\": [{\"label\": \"model_name\", \"range\": [0, 7], \"ticktext\": [\"model1\", \"model2\", \"model3\", \"model4\", \"model5\", \"model6\", \"model7\", \"model8\"], \"tickvals\": [0, 1, 2, 3, 4, 5, 6, 7], \"values\": [0, 1, 2, 3, 4, 5, 6, 7]}, {\"label\": \"learning_rate\", \"range\": [1e-05, 1.0], \"values\": [0.001, 0.01, 0.1, 0.001, 0.0001, 0.0001, 1.0, 1e-05]}, {\"label\": \"number_layers\", \"range\": [1, 20], \"values\": [5, 5, 5, 10, 10, 20, 1, 1]}, {\"label\": \"optimizer\", \"range\": [0, 1], \"ticktext\": [\"SGD\", \"adam\"], \"tickvals\": [0, 1], \"values\": [1, 0, 1, 1, 1, 1, 1, 1]}, {\"label\": \"hidden_size\", \"range\": [1, 50], \"values\": [4, 4, 4, 50, 50, 4, 1, 2]}, {\"label\": \"batch_size\", \"range\": [32, 64], \"values\": [32, 32, 32, 32, 64, 32, 50, 32]}, {\"label\": \"epochs\", \"range\": [3, 100], \"values\": [50, 20, 20, 3, 100, 50, 10, 50]}, {\"label\": \"accuracy\", \"range\": [0.013790849673202614, 0.9741830065359477], \"values\": [0.9741830065359477, 0.9741830065359477, 0.9741830065359477, 0.9741830065359477, 0.9741830065359477, 0.9741830065359477, 0.9741830065359477, 0.013790849673202614]}], \"line\": {\"cmax\": 0.9741830065359477, \"cmin\": 0.013790849673202614, \"color\": [0.9741830065359477, 0.9741830065359477, 0.9741830065359477, 0.9741830065359477, 0.9741830065359477, 0.9741830065359477, 0.9741830065359477, 0.013790849673202614], \"colorscale\": [[0.0, \"rgb(0,0,0)\"], [0.2, \"rgb(30,0,100)\"], [0.4, \"rgb(120,0,100)\"], [0.6, \"rgb(160,90,0)\"], [0.8, \"rgb(230,200,0)\"], [1.0, \"rgb(255,250,220)\"]], \"showscale\": true}, \"type\": \"parcoords\"}],                        {\"margin\": {\"b\": 20, \"l\": 120, \"r\": 30, \"t\": 40}, \"template\": {\"data\": {\"bar\": [{\"error_x\": {\"color\": \"#2a3f5f\"}, \"error_y\": {\"color\": \"#2a3f5f\"}, \"marker\": {\"line\": {\"color\": \"#E5ECF6\", \"width\": 0.5}}, \"type\": \"bar\"}], \"barpolar\": [{\"marker\": {\"line\": {\"color\": \"#E5ECF6\", \"width\": 0.5}}, \"type\": \"barpolar\"}], \"carpet\": [{\"aaxis\": {\"endlinecolor\": \"#2a3f5f\", \"gridcolor\": \"white\", \"linecolor\": \"white\", \"minorgridcolor\": \"white\", \"startlinecolor\": \"#2a3f5f\"}, \"baxis\": {\"endlinecolor\": \"#2a3f5f\", \"gridcolor\": \"white\", \"linecolor\": \"white\", \"minorgridcolor\": \"white\", \"startlinecolor\": \"#2a3f5f\"}, \"type\": \"carpet\"}], \"choropleth\": [{\"colorbar\": {\"outlinewidth\": 0, \"ticks\": \"\"}, \"type\": \"choropleth\"}], \"contour\": [{\"colorbar\": {\"outlinewidth\": 0, \"ticks\": \"\"}, \"colorscale\": [[0.0, \"#0d0887\"], [0.1111111111111111, \"#46039f\"], [0.2222222222222222, \"#7201a8\"], [0.3333333333333333, \"#9c179e\"], [0.4444444444444444, \"#bd3786\"], [0.5555555555555556, \"#d8576b\"], [0.6666666666666666, \"#ed7953\"], [0.7777777777777778, \"#fb9f3a\"], [0.8888888888888888, \"#fdca26\"], [1.0, \"#f0f921\"]], \"type\": \"contour\"}], \"contourcarpet\": [{\"colorbar\": {\"outlinewidth\": 0, \"ticks\": \"\"}, \"type\": \"contourcarpet\"}], \"heatmap\": [{\"colorbar\": {\"outlinewidth\": 0, \"ticks\": \"\"}, \"colorscale\": [[0.0, \"#0d0887\"], [0.1111111111111111, \"#46039f\"], [0.2222222222222222, \"#7201a8\"], [0.3333333333333333, \"#9c179e\"], [0.4444444444444444, \"#bd3786\"], [0.5555555555555556, \"#d8576b\"], [0.6666666666666666, \"#ed7953\"], [0.7777777777777778, \"#fb9f3a\"], [0.8888888888888888, \"#fdca26\"], [1.0, \"#f0f921\"]], \"type\": \"heatmap\"}], \"heatmapgl\": [{\"colorbar\": {\"outlinewidth\": 0, \"ticks\": \"\"}, \"colorscale\": [[0.0, \"#0d0887\"], [0.1111111111111111, \"#46039f\"], [0.2222222222222222, \"#7201a8\"], [0.3333333333333333, \"#9c179e\"], [0.4444444444444444, \"#bd3786\"], [0.5555555555555556, \"#d8576b\"], [0.6666666666666666, \"#ed7953\"], [0.7777777777777778, \"#fb9f3a\"], [0.8888888888888888, \"#fdca26\"], [1.0, \"#f0f921\"]], \"type\": \"heatmapgl\"}], \"histogram\": [{\"marker\": {\"colorbar\": {\"outlinewidth\": 0, \"ticks\": \"\"}}, \"type\": \"histogram\"}], \"histogram2d\": [{\"colorbar\": {\"outlinewidth\": 0, \"ticks\": \"\"}, \"colorscale\": [[0.0, \"#0d0887\"], [0.1111111111111111, \"#46039f\"], [0.2222222222222222, \"#7201a8\"], [0.3333333333333333, \"#9c179e\"], [0.4444444444444444, \"#bd3786\"], [0.5555555555555556, \"#d8576b\"], [0.6666666666666666, \"#ed7953\"], [0.7777777777777778, \"#fb9f3a\"], [0.8888888888888888, \"#fdca26\"], [1.0, \"#f0f921\"]], \"type\": \"histogram2d\"}], \"histogram2dcontour\": [{\"colorbar\": {\"outlinewidth\": 0, \"ticks\": \"\"}, \"colorscale\": [[0.0, \"#0d0887\"], [0.1111111111111111, \"#46039f\"], [0.2222222222222222, \"#7201a8\"], [0.3333333333333333, \"#9c179e\"], [0.4444444444444444, \"#bd3786\"], [0.5555555555555556, \"#d8576b\"], [0.6666666666666666, \"#ed7953\"], [0.7777777777777778, \"#fb9f3a\"], [0.8888888888888888, \"#fdca26\"], [1.0, \"#f0f921\"]], \"type\": \"histogram2dcontour\"}], \"mesh3d\": [{\"colorbar\": {\"outlinewidth\": 0, \"ticks\": \"\"}, \"type\": \"mesh3d\"}], \"parcoords\": [{\"line\": {\"colorbar\": {\"outlinewidth\": 0, \"ticks\": \"\"}}, \"type\": \"parcoords\"}], \"pie\": [{\"automargin\": true, \"type\": \"pie\"}], \"scatter\": [{\"marker\": {\"colorbar\": {\"outlinewidth\": 0, \"ticks\": \"\"}}, \"type\": \"scatter\"}], \"scatter3d\": [{\"line\": {\"colorbar\": {\"outlinewidth\": 0, \"ticks\": \"\"}}, \"marker\": {\"colorbar\": {\"outlinewidth\": 0, \"ticks\": \"\"}}, \"type\": \"scatter3d\"}], \"scattercarpet\": [{\"marker\": {\"colorbar\": {\"outlinewidth\": 0, \"ticks\": \"\"}}, \"type\": \"scattercarpet\"}], \"scattergeo\": [{\"marker\": {\"colorbar\": {\"outlinewidth\": 0, \"ticks\": \"\"}}, \"type\": \"scattergeo\"}], \"scattergl\": [{\"marker\": {\"colorbar\": {\"outlinewidth\": 0, \"ticks\": \"\"}}, \"type\": \"scattergl\"}], \"scattermapbox\": [{\"marker\": {\"colorbar\": {\"outlinewidth\": 0, \"ticks\": \"\"}}, \"type\": \"scattermapbox\"}], \"scatterpolar\": [{\"marker\": {\"colorbar\": {\"outlinewidth\": 0, \"ticks\": \"\"}}, \"type\": \"scatterpolar\"}], \"scatterpolargl\": [{\"marker\": {\"colorbar\": {\"outlinewidth\": 0, \"ticks\": \"\"}}, \"type\": \"scatterpolargl\"}], \"scatterternary\": [{\"marker\": {\"colorbar\": {\"outlinewidth\": 0, \"ticks\": \"\"}}, \"type\": \"scatterternary\"}], \"surface\": [{\"colorbar\": {\"outlinewidth\": 0, \"ticks\": \"\"}, \"colorscale\": [[0.0, \"#0d0887\"], [0.1111111111111111, \"#46039f\"], [0.2222222222222222, \"#7201a8\"], [0.3333333333333333, \"#9c179e\"], [0.4444444444444444, \"#bd3786\"], [0.5555555555555556, \"#d8576b\"], [0.6666666666666666, \"#ed7953\"], [0.7777777777777778, \"#fb9f3a\"], [0.8888888888888888, \"#fdca26\"], [1.0, \"#f0f921\"]], \"type\": \"surface\"}], \"table\": [{\"cells\": {\"fill\": {\"color\": \"#EBF0F8\"}, \"line\": {\"color\": \"white\"}}, \"header\": {\"fill\": {\"color\": \"#C8D4E3\"}, \"line\": {\"color\": \"white\"}}, \"type\": \"table\"}]}, \"layout\": {\"annotationdefaults\": {\"arrowcolor\": \"#2a3f5f\", \"arrowhead\": 0, \"arrowwidth\": 1}, \"coloraxis\": {\"colorbar\": {\"outlinewidth\": 0, \"ticks\": \"\"}}, \"colorscale\": {\"diverging\": [[0, \"#8e0152\"], [0.1, \"#c51b7d\"], [0.2, \"#de77ae\"], [0.3, \"#f1b6da\"], [0.4, \"#fde0ef\"], [0.5, \"#f7f7f7\"], [0.6, \"#e6f5d0\"], [0.7, \"#b8e186\"], [0.8, \"#7fbc41\"], [0.9, \"#4d9221\"], [1, \"#276419\"]], \"sequential\": [[0.0, \"#0d0887\"], [0.1111111111111111, \"#46039f\"], [0.2222222222222222, \"#7201a8\"], [0.3333333333333333, \"#9c179e\"], [0.4444444444444444, \"#bd3786\"], [0.5555555555555556, \"#d8576b\"], [0.6666666666666666, \"#ed7953\"], [0.7777777777777778, \"#fb9f3a\"], [0.8888888888888888, \"#fdca26\"], [1.0, \"#f0f921\"]], \"sequentialminus\": [[0.0, \"#0d0887\"], [0.1111111111111111, \"#46039f\"], [0.2222222222222222, \"#7201a8\"], [0.3333333333333333, \"#9c179e\"], [0.4444444444444444, \"#bd3786\"], [0.5555555555555556, \"#d8576b\"], [0.6666666666666666, \"#ed7953\"], [0.7777777777777778, \"#fb9f3a\"], [0.8888888888888888, \"#fdca26\"], [1.0, \"#f0f921\"]]}, \"colorway\": [\"#636efa\", \"#EF553B\", \"#00cc96\", \"#ab63fa\", \"#FFA15A\", \"#19d3f3\", \"#FF6692\", \"#B6E880\", \"#FF97FF\", \"#FECB52\"], \"font\": {\"color\": \"#2a3f5f\"}, \"geo\": {\"bgcolor\": \"white\", \"lakecolor\": \"white\", \"landcolor\": \"#E5ECF6\", \"showlakes\": true, \"showland\": true, \"subunitcolor\": \"white\"}, \"hoverlabel\": {\"align\": \"left\"}, \"hovermode\": \"closest\", \"mapbox\": {\"style\": \"light\"}, \"paper_bgcolor\": \"white\", \"plot_bgcolor\": \"#E5ECF6\", \"polar\": {\"angularaxis\": {\"gridcolor\": \"white\", \"linecolor\": \"white\", \"ticks\": \"\"}, \"bgcolor\": \"#E5ECF6\", \"radialaxis\": {\"gridcolor\": \"white\", \"linecolor\": \"white\", \"ticks\": \"\"}}, \"scene\": {\"xaxis\": {\"backgroundcolor\": \"#E5ECF6\", \"gridcolor\": \"white\", \"gridwidth\": 2, \"linecolor\": \"white\", \"showbackground\": true, \"ticks\": \"\", \"zerolinecolor\": \"white\"}, \"yaxis\": {\"backgroundcolor\": \"#E5ECF6\", \"gridcolor\": \"white\", \"gridwidth\": 2, \"linecolor\": \"white\", \"showbackground\": true, \"ticks\": \"\", \"zerolinecolor\": \"white\"}, \"zaxis\": {\"backgroundcolor\": \"#E5ECF6\", \"gridcolor\": \"white\", \"gridwidth\": 2, \"linecolor\": \"white\", \"showbackground\": true, \"ticks\": \"\", \"zerolinecolor\": \"white\"}}, \"shapedefaults\": {\"line\": {\"color\": \"#2a3f5f\"}}, \"ternary\": {\"aaxis\": {\"gridcolor\": \"white\", \"linecolor\": \"white\", \"ticks\": \"\"}, \"baxis\": {\"gridcolor\": \"white\", \"linecolor\": \"white\", \"ticks\": \"\"}, \"bgcolor\": \"#E5ECF6\", \"caxis\": {\"gridcolor\": \"white\", \"linecolor\": \"white\", \"ticks\": \"\"}}, \"title\": {\"x\": 0.05}, \"xaxis\": {\"automargin\": true, \"gridcolor\": \"white\", \"linecolor\": \"white\", \"ticks\": \"\", \"title\": {\"standoff\": 15}, \"zerolinecolor\": \"white\", \"zerolinewidth\": 2}, \"yaxis\": {\"automargin\": true, \"gridcolor\": \"white\", \"linecolor\": \"white\", \"ticks\": \"\", \"title\": {\"standoff\": 15}, \"zerolinecolor\": \"white\", \"zerolinewidth\": 2}}}},                        {\"responsive\": true}                    ).then(function(){\n",
       "                            \n",
       "var gd = document.getElementById('f349915c-c071-42ac-b92b-a8fdbdd99ddd');\n",
       "var x = new MutationObserver(function (mutations, observer) {{\n",
       "        var display = window.getComputedStyle(gd).display;\n",
       "        if (!display || display === 'none') {{\n",
       "            console.log([gd, 'removed!']);\n",
       "            Plotly.purge(gd);\n",
       "            observer.disconnect();\n",
       "        }}\n",
       "}});\n",
       "\n",
       "// Listen for the removal of the full notebook cells\n",
       "var notebookContainer = gd.closest('#notebook-container');\n",
       "if (notebookContainer) {{\n",
       "    x.observe(notebookContainer, {childList: true});\n",
       "}}\n",
       "\n",
       "// Listen for the clearing of the current output cell\n",
       "var outputEl = gd.closest('.output');\n",
       "if (outputEl) {{\n",
       "    x.observe(outputEl, {childList: true});\n",
       "}}\n",
       "\n",
       "                        })                };                });            </script>        </div>"
      ]
     },
     "metadata": {},
     "output_type": "display_data"
    }
   ],
   "source": [
    "# create a parallel coordination plot over hyperparamaters again\n",
    "parallel_coordinates(model_dump, metric=\"accuracy\")"
   ]
  },
  {
   "cell_type": "code",
   "execution_count": 24,
   "metadata": {},
   "outputs": [
    {
     "name": "stdout",
     "output_type": "stream",
     "text": [
      "model: model7 accuracy: 0.9793567592053323 precision: 0.9591396618011713 recall: 0.9793567592053323 f1_score: 0.9895707326642037\n"
     ]
    }
   ],
   "source": [
    "#choose the best model base on the last parallel coordination plot\n",
    "best_model_path = \"aa2_models/model7.pt\"\n",
    "scores = trainer.test(test_X, test_y, ClassifierModel, best_model_path)"
   ]
  },
  {
   "cell_type": "code",
   "execution_count": null,
   "metadata": {},
   "outputs": [],
   "source": []
  }
 ],
 "metadata": {
  "kernelspec": {
   "display_name": "Python 3",
   "language": "python",
   "name": "python3"
  },
  "language_info": {
   "codemirror_mode": {
    "name": "ipython",
    "version": 3
   },
   "file_extension": ".py",
   "mimetype": "text/x-python",
   "name": "python",
   "nbconvert_exporter": "python",
   "pygments_lexer": "ipython3",
   "version": "3.7.4"
  }
 },
 "nbformat": 4,
 "nbformat_minor": 2
}
